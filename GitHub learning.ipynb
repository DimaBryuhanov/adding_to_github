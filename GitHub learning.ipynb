{
 "cells": [
  {
   "cell_type": "markdown",
   "metadata": {},
   "source": [
    "# Git\n",
    "\n",
    "- is a VCS = Version Control System\n",
    "- or a SCM = Source Code Management tool\n",
    "- that keeps track of the code changes\n",
    "- by making snapshots of the project at every commit\n",
    "\n",
    "### Familiar VCS we encountered:\n",
    "- Word, Excel, Photoshop... keep track of changes and can use undo & redo comands\n",
    "- Text files use undo: (Ctrl+Z) for Windows & (Command + Z) Mac & redo: (Shift+ Ctrl+Z) for Windows & (Shift + Command + Z)\n",
    "\n",
    "\n",
    "### Free learning resources:\n",
    "<html>\n",
    "    <a href=\"https://lab.github.com\">lab.github.com</a>\n",
    "</html>"
   ]
  },
  {
   "cell_type": "code",
   "execution_count": null,
   "metadata": {},
   "outputs": [],
   "source": [
    "hello"
   ]
  },
  {
   "cell_type": "markdown",
   "metadata": {},
   "source": [
    "# History:\n",
    "\n",
    "1. 1973 **SCCS** = [Source Code Control System](https://en.wikipedia.org/wiki/Source_Code_Control_System), became popular, because it was free with Unix (stored original + changes)\n",
    "- Disadvantages: you have to wait for all the changes to get to the latest version\n",
    "2. 1982 **RCS** = [Revision Control System](https://en.wikipedia.org/wiki/Revision_Control_System) - open source & cross platform, more features, worked faster (stored latest version + changes to reverse)\n",
    "- Advantages: since we usually use the latest version, it is the one we have stored\n",
    "- Disadvantages: only one person can work with one file at a time\n",
    "3. 1986-90 **CVS** = [Concurrent Version System](https://en.wikipedia.org/wiki/Concurrent_Versions_System)\n",
    "- Advantages: multiple files, multiple users concurrently\n",
    "- Disadvantages: once you rename a file - it is a new file\n",
    "4. 2000 **Apache SVN** = [Apache Subversion](https://en.wikipedia.org/wiki/Apache_Subversion)\n",
    "- New features: tracks not only texts, but also images\n",
    "- Tracks not only files, but directories as a whole\n",
    "5. 2000 [**BitKeeper SCM**](https://en.wikipedia.org/wiki/BitKeeper) closed source & proprietary\n",
    "- Advantages: (DVC) Distributed Version Control, the \"Community\" version was free till 2005, used fro Linux 2002-2005\n",
    "- Disadvantages: was paid\n",
    "6. 2005, April [**Git**](https://git-scm.com) was created from scratch by Linus Torvalds, the creator of Linux\n",
    "- Advantages: free, open source, DVC, compatible with Windows, MacOS, Linux, faster than other tools by 100 times\n",
    "7. 2008 **GitHub** launched to host the git repositories\n",
    "- 2009 it hosts 50,000 repositories for 100,000 users\n",
    "- 2011 it hosts over 2 mln repositories of over 1 mln users\n",
    "- 2018 GitHub was bought by Microsoft\n",
    "- 2019 it hosted over 57 mln repositories of over 28 mln users"
   ]
  },
  {
   "cell_type": "markdown",
   "metadata": {},
   "source": [
    "# Distributed Version Control\n",
    "\n",
    "1. There's no central repository\n",
    "2. Every user maintains his/her own repository\n",
    "3. Changes are stored as **change sets** that can be exchanged between repositories\n",
    "- Advantages: \n",
    "- No need to be connected to the central server (can work from an airplane)\n",
    "- Works faster, since there's no network latency involved\n",
    "- No single poin of failure (each one has a version of the project)\n",
    "- Developers can work independently"
   ]
  },
  {
   "cell_type": "markdown",
   "metadata": {},
   "source": [
    "# GitHub Workflow:\n",
    "![GitHub Workflow](images/GitHub_Workflow.png)"
   ]
  },
  {
   "cell_type": "markdown",
   "metadata": {},
   "source": [
    "[Git Cheat Sheet in Russian](https://training.github.com/downloads/ru/github-git-cheat-sheet/)"
   ]
  },
  {
   "cell_type": "markdown",
   "metadata": {},
   "source": [
    "# Installing Git\n",
    "\n",
    "[Visual Installer](https://git-scm.com)\n",
    "\n",
    "## MacOS\n",
    "\n",
    "[Visual Installer for Mac](https://git-scm.com/download/mac)\n",
    "\n",
    "alternatively:\n",
    "\n",
    "[Homebrew](https://brew.sh)"
   ]
  },
  {
   "cell_type": "code",
   "execution_count": 3,
   "metadata": {},
   "outputs": [],
   "source": [
    "#!sudo brew install git"
   ]
  },
  {
   "cell_type": "code",
   "execution_count": 4,
   "metadata": {},
   "outputs": [
    {
     "name": "stdout",
     "output_type": "stream",
     "text": [
      "/usr/bin/git\r\n"
     ]
    }
   ],
   "source": [
    "! which git"
   ]
  },
  {
   "cell_type": "code",
   "execution_count": 5,
   "metadata": {},
   "outputs": [
    {
     "name": "stdout",
     "output_type": "stream",
     "text": [
      "git version 2.24.3 (Apple Git-128)\r\n"
     ]
    }
   ],
   "source": [
    "! git --version"
   ]
  },
  {
   "cell_type": "markdown",
   "metadata": {},
   "source": [
    "## Windows\n",
    "\n",
    "[Visual Installer for Windows](https://git-scm.com/download/win)\n",
    "- create a folder for the project\n",
    "- right click with a mouse\n",
    "- select: the \"Git Bash Here\" option\n",
    "<div>\n",
    "    <img src=\"./images/working_in_windows.png\" style=\"width: 200px;\"/>\n",
    "</div>\n",
    "\n",
    "## Linux\n",
    "\n",
    "[Visual Installer for Linux](https://git-scm.com/download/linux)\n",
    "\n",
    "# Configuration"
   ]
  },
  {
   "cell_type": "code",
   "execution_count": 338,
   "metadata": {},
   "outputs": [],
   "source": [
    "! git config --global user.name \"Dmitry Brook\""
   ]
  },
  {
   "cell_type": "code",
   "execution_count": 339,
   "metadata": {},
   "outputs": [],
   "source": [
    "! git config --global user.email \"dmitrii_bryuhanov@mail.ru\""
   ]
  },
  {
   "cell_type": "code",
   "execution_count": 8,
   "metadata": {},
   "outputs": [
    {
     "name": "stdout",
     "output_type": "stream",
     "text": [
      "credential.helper=osxkeychain\r\n",
      "user.name=Dmitry Brook\r\n",
      "user.email=dmitrii_bryuhanov@mail.ru\r\n"
     ]
    }
   ],
   "source": [
    "! git config --list"
   ]
  },
  {
   "cell_type": "code",
   "execution_count": 10,
   "metadata": {},
   "outputs": [
    {
     "name": "stdout",
     "output_type": "stream",
     "text": [
      "Dmitry Brook\r\n"
     ]
    }
   ],
   "source": [
    "! git config user.name"
   ]
  },
  {
   "cell_type": "code",
   "execution_count": 11,
   "metadata": {},
   "outputs": [
    {
     "name": "stdout",
     "output_type": "stream",
     "text": [
      "dmitrii_bryuhanov@mail.ru\r\n"
     ]
    }
   ],
   "source": [
    "! git config user.email"
   ]
  },
  {
   "cell_type": "code",
   "execution_count": 6,
   "metadata": {},
   "outputs": [
    {
     "name": "stdout",
     "output_type": "stream",
     "text": [
      "drwxr-xr-x  14 user  staff   448 Oct 20 17:47 .git\r\n"
     ]
    }
   ],
   "source": [
    "! cd ./new_project/ && ls -la | grep .git$"
   ]
  },
  {
   "cell_type": "code",
   "execution_count": 16,
   "metadata": {},
   "outputs": [],
   "source": [
    "! git config --global color.ui true"
   ]
  },
  {
   "cell_type": "code",
   "execution_count": 17,
   "metadata": {},
   "outputs": [
    {
     "name": "stdout",
     "output_type": "stream",
     "text": [
      "[user]\r\n",
      "\tname = Dmitry Brook\r\n",
      "\temail = dmitrii_bryuhanov@mail.ru\r\n",
      "[color]\r\n",
      "\tui = true\r\n"
     ]
    }
   ],
   "source": [
    "! cat ~/.gitconfig"
   ]
  },
  {
   "cell_type": "code",
   "execution_count": 18,
   "metadata": {},
   "outputs": [
    {
     "name": "stdout",
     "output_type": "stream",
     "text": [
      "usage: git [--version] [--help] [-C <path>] [-c <name>=<value>]\r\n",
      "           [--exec-path[=<path>]] [--html-path] [--man-path] [--info-path]\r\n",
      "           [-p | --paginate | -P | --no-pager] [--no-replace-objects] [--bare]\r\n",
      "           [--git-dir=<path>] [--work-tree=<path>] [--namespace=<name>]\r\n",
      "           <command> [<args>]\r\n",
      "\r\n",
      "These are common Git commands used in various situations:\r\n",
      "\r\n",
      "start a working area (see also: git help tutorial)\r\n",
      "   clone     Clone a repository into a new directory\r\n",
      "   init      Create an empty Git repository or reinitialize an existing one\r\n",
      "\r\n",
      "work on the current change (see also: git help everyday)\r\n",
      "   add       Add file contents to the index\r\n",
      "   mv        Move or rename a file, a directory, or a symlink\r\n",
      "   restore   Restore working tree files\r\n",
      "   rm        Remove files from the working tree and from the index\r\n",
      "\r\n",
      "examine the history and state (see also: git help revisions)\r\n",
      "   bisect    Use binary search to find the commit that introduced a bug\r\n",
      "   diff      Show changes between commits, commit and working tree, etc\r\n",
      "   grep      Print lines matching a pattern\r\n",
      "   log       Show commit logs\r\n",
      "   show      Show various types of objects\r\n",
      "   status    Show the working tree status\r\n",
      "\r\n",
      "grow, mark and tweak your common history\r\n",
      "   branch    List, create, or delete branches\r\n",
      "   commit    Record changes to the repository\r\n",
      "   merge     Join two or more development histories together\r\n",
      "   rebase    Reapply commits on top of another base tip\r\n",
      "   reset     Reset current HEAD to the specified state\r\n",
      "   switch    Switch branches\r\n",
      "   tag       Create, list, delete or verify a tag object signed with GPG\r\n",
      "\r\n",
      "collaborate (see also: git help workflows)\r\n",
      "   fetch     Download objects and refs from another repository\r\n",
      "   pull      Fetch from and integrate with another repository or a local branch\r\n",
      "   push      Update remote refs along with associated objects\r\n",
      "\r\n",
      "'git help -a' and 'git help -g' list available subcommands and some\r\n",
      "concept guides. See 'git help <command>' or 'git help <concept>'\r\n",
      "to read about a specific subcommand or concept.\r\n",
      "See 'git help git' for an overview of the system.\r\n"
     ]
    }
   ],
   "source": [
    "!git help"
   ]
  },
  {
   "cell_type": "code",
   "execution_count": 74,
   "metadata": {},
   "outputs": [
    {
     "name": "stdout",
     "output_type": "stream",
     "text": [
      "   branch    List, create, or delete branches\r\n"
     ]
    }
   ],
   "source": [
    "!git help | grep \" branch \""
   ]
  },
  {
   "cell_type": "markdown",
   "metadata": {},
   "source": [
    "## Getting Started\n",
    "\n",
    "### Initializing a repository"
   ]
  },
  {
   "cell_type": "code",
   "execution_count": 19,
   "metadata": {},
   "outputs": [
    {
     "name": "stdout",
     "output_type": "stream",
     "text": [
      "Initialized empty Git repository in /Users/user/Documents/Full Stack/Git/new_project/.git/\r\n"
     ]
    }
   ],
   "source": [
    "! git init ./new_project"
   ]
  },
  {
   "cell_type": "markdown",
   "metadata": {},
   "source": [
    "###### Checking the contents of the new folder"
   ]
  },
  {
   "cell_type": "code",
   "execution_count": 20,
   "metadata": {},
   "outputs": [
    {
     "name": "stdout",
     "output_type": "stream",
     "text": [
      "total 0\r\n",
      "drwxr-xr-x  3 user  staff   96 Oct 18 17:17 \u001b[34m.\u001b[m\u001b[m\r\n",
      "drwxr-xr-x  9 user  staff  288 Oct 18 17:19 \u001b[34m..\u001b[m\u001b[m\r\n",
      "drwxr-xr-x  9 user  staff  288 Oct 18 17:17 \u001b[34m.git\u001b[m\u001b[m\r\n"
     ]
    }
   ],
   "source": [
    "!cd ./new_project && ls -la"
   ]
  },
  {
   "cell_type": "markdown",
   "metadata": {},
   "source": [
    "###### Checking the contents of the .git file"
   ]
  },
  {
   "cell_type": "code",
   "execution_count": 21,
   "metadata": {},
   "outputs": [
    {
     "name": "stdout",
     "output_type": "stream",
     "text": [
      "total 24\r\n",
      "drwxr-xr-x   9 user  staff  288 Oct 18 17:17 \u001b[34m.\u001b[m\u001b[m\r\n",
      "drwxr-xr-x   3 user  staff   96 Oct 18 17:17 \u001b[34m..\u001b[m\u001b[m\r\n",
      "-rw-r--r--   1 user  staff   23 Oct 18 17:17 HEAD\r\n",
      "-rw-r--r--   1 user  staff  137 Oct 18 17:17 config\r\n",
      "-rw-r--r--   1 user  staff   73 Oct 18 17:17 description\r\n",
      "drwxr-xr-x  14 user  staff  448 Oct 18 17:17 \u001b[34mhooks\u001b[m\u001b[m\r\n",
      "drwxr-xr-x   3 user  staff   96 Oct 18 17:17 \u001b[34minfo\u001b[m\u001b[m\r\n",
      "drwxr-xr-x   4 user  staff  128 Oct 18 17:17 \u001b[34mobjects\u001b[m\u001b[m\r\n",
      "drwxr-xr-x   4 user  staff  128 Oct 18 17:17 \u001b[34mrefs\u001b[m\u001b[m\r\n"
     ]
    }
   ],
   "source": [
    "! ls -la ./new_project/.git"
   ]
  },
  {
   "cell_type": "markdown",
   "metadata": {},
   "source": [
    "###### Checking the project configuration"
   ]
  },
  {
   "cell_type": "code",
   "execution_count": 23,
   "metadata": {},
   "outputs": [
    {
     "name": "stdout",
     "output_type": "stream",
     "text": [
      "[core]\r\n",
      "\trepositoryformatversion = 0\r\n",
      "\tfilemode = true\r\n",
      "\tbare = false\r\n",
      "\tlogallrefupdates = true\r\n",
      "\tignorecase = true\r\n",
      "\tprecomposeunicode = true\r\n"
     ]
    }
   ],
   "source": [
    "!cat ./new_project/.git/config"
   ]
  },
  {
   "cell_type": "markdown",
   "metadata": {},
   "source": [
    "###### Creating a new file"
   ]
  },
  {
   "cell_type": "code",
   "execution_count": 24,
   "metadata": {},
   "outputs": [],
   "source": [
    "! touch ./new_project/some_file.txt"
   ]
  },
  {
   "cell_type": "markdown",
   "metadata": {},
   "source": [
    "###### Writing some text inside the new file"
   ]
  },
  {
   "cell_type": "code",
   "execution_count": 25,
   "metadata": {},
   "outputs": [],
   "source": [
    "!echo \"My new text.\" > ./new_project/some_file.txt"
   ]
  },
  {
   "cell_type": "markdown",
   "metadata": {},
   "source": [
    "###### Adding the new files to the git repository"
   ]
  },
  {
   "cell_type": "code",
   "execution_count": 27,
   "metadata": {},
   "outputs": [],
   "source": [
    "!cd ./new_project/ && git add ."
   ]
  },
  {
   "cell_type": "markdown",
   "metadata": {},
   "source": [
    "###### Comitting the changes"
   ]
  },
  {
   "cell_type": "code",
   "execution_count": 28,
   "metadata": {},
   "outputs": [
    {
     "name": "stdout",
     "output_type": "stream",
     "text": [
      "[master (root-commit) 7301ad3] first commit\r\n",
      " 1 file changed, 1 insertion(+)\r\n",
      " create mode 100644 some_file.txt\r\n"
     ]
    }
   ],
   "source": [
    "!cd ./new_project/ && git commit -m \"first commit\""
   ]
  },
  {
   "cell_type": "markdown",
   "metadata": {},
   "source": [
    "### Adding commit messages:\n",
    "- keep the first line below 50 characters\n",
    "- to write more add and empty line\n",
    "- keep the description lines below 72 characters\n",
    "- write messages in present rather than past tense\n",
    "- CORRECT: \"fixing a bug\" INCORRECT: \"fixed a bug\"\n",
    "- shorthands can be used: \"bugfix\" or \"#309898\" or [js, css, html] etc.\n",
    "- be clear & descriptive\n",
    "\n",
    "### Example:\n",
    "\n",
    "- #345686 fixes a bug\n",
    "- \n",
    "- here goes the description of the\n",
    "- when the bug occured and how or\n",
    "- where it was fixed, but not too\n",
    "- long..."
   ]
  },
  {
   "cell_type": "markdown",
   "metadata": {},
   "source": [
    "### Viewing the commit log"
   ]
  },
  {
   "cell_type": "markdown",
   "metadata": {},
   "source": [
    "<table id=\"log_options\" class=\"tableblock frame-all grid-all stretch\">\n",
    "<caption class=\"title\">Common options to <code>git log</code>\n",
    "</caption>\n",
    "<colgroup>\n",
    "<col style=\"width: 20%;\">\n",
    "<col style=\"width: 80%;\">\n",
    "</colgroup>\n",
    "<thead>\n",
    "<tr>\n",
    "<th class=\"tableblock halign-left valign-top\">Option</th>\n",
    "<th class=\"tableblock halign-left valign-top\">Description</th>\n",
    "</tr>\n",
    "</thead>\n",
    "<tbody>\n",
    "<tr>\n",
    "<td class=\"tableblock halign-left valign-top\"><p class=\"tableblock\"><code>-p</code></p></td>\n",
    "<td class=\"tableblock halign-left valign-top\"><p class=\"tableblock\">Show the patch introduced with each commit.</p></td>\n",
    "</tr>\n",
    "<tr>\n",
    "<td class=\"tableblock halign-left valign-top\"><p class=\"tableblock\"><code>--stat</code></p></td>\n",
    "<td class=\"tableblock halign-left valign-top\"><p class=\"tableblock\">Show statistics for files modified in each commit.</p></td>\n",
    "</tr>\n",
    "<tr>\n",
    "<td class=\"tableblock halign-left valign-top\"><p class=\"tableblock\"><code>--shortstat</code></p></td>\n",
    "<td class=\"tableblock halign-left valign-top\"><p class=\"tableblock\">Display only the changed/insertions/deletions line from the --stat command.</p></td>\n",
    "</tr>\n",
    "<tr>\n",
    "<td class=\"tableblock halign-left valign-top\"><p class=\"tableblock\"><code>--name-only</code></p></td>\n",
    "<td class=\"tableblock halign-left valign-top\"><p class=\"tableblock\">Show the list of files modified after the commit information.</p></td>\n",
    "</tr>\n",
    "<tr>\n",
    "<td class=\"tableblock halign-left valign-top\"><p class=\"tableblock\"><code>--name-status</code></p></td>\n",
    "<td class=\"tableblock halign-left valign-top\"><p class=\"tableblock\">Show the list of files affected with added/modified/deleted information as well.</p></td>\n",
    "</tr>\n",
    "<tr>\n",
    "<td class=\"tableblock halign-left valign-top\"><p class=\"tableblock\"><code>--abbrev-commit</code></p></td>\n",
    "<td class=\"tableblock halign-left valign-top\"><p class=\"tableblock\">Show only the first few characters of the SHA-1 checksum instead of all 40.</p></td>\n",
    "</tr>\n",
    "<tr>\n",
    "<td class=\"tableblock halign-left valign-top\"><p class=\"tableblock\"><code>--relative-date</code></p></td>\n",
    "<td class=\"tableblock halign-left valign-top\"><p class=\"tableblock\">Display the date in a relative format (for example, “2 weeks ago”) instead of using the full date format.</p></td>\n",
    "</tr>\n",
    "<tr>\n",
    "<td class=\"tableblock halign-left valign-top\"><p class=\"tableblock\"><code>--graph</code></p></td>\n",
    "<td class=\"tableblock halign-left valign-top\"><p class=\"tableblock\">Display an ASCII graph of the branch and merge history beside the log output.</p></td>\n",
    "</tr>\n",
    "<tr>\n",
    "<td class=\"tableblock halign-left valign-top\"><p class=\"tableblock\"><code>--pretty</code></p></td>\n",
    "<td class=\"tableblock halign-left valign-top\"><p class=\"tableblock\">Show commits in an alternate format. Option values include oneline, short, full, fuller, and format (where you specify your own format).</p></td>\n",
    "</tr>\n",
    "<tr>\n",
    "<td class=\"tableblock halign-left valign-top\"><p class=\"tableblock\"><code>--oneline</code></p></td>\n",
    "<td class=\"tableblock halign-left valign-top\"><p class=\"tableblock\">Shorthand for <code>--pretty=oneline --abbrev-commit</code> used together.</p></td>\n",
    "</tr>\n",
    "</tbody>\n",
    "</table>"
   ]
  },
  {
   "cell_type": "code",
   "execution_count": 29,
   "metadata": {},
   "outputs": [
    {
     "name": "stdout",
     "output_type": "stream",
     "text": [
      "\u001b[33mcommit 7301ad3b52dea435d187d74e9f7f5bbefe500fe2\u001b[m\u001b[33m (\u001b[m\u001b[1;36mHEAD -> \u001b[m\u001b[1;32mmaster\u001b[m\u001b[33m)\u001b[m\r\n",
      "Author: Dmitry Brook <dmitrii_bryuhanov@mail.ru>\r\n",
      "Date:   Sun Oct 18 17:38:41 2020 +0300\r\n",
      "\r\n",
      "    first commit\r\n"
     ]
    }
   ],
   "source": [
    "!cd ./new_project/ && git log"
   ]
  },
  {
   "cell_type": "markdown",
   "metadata": {},
   "source": [
    "###### Limiting the number of commits to view: -n"
   ]
  },
  {
   "cell_type": "markdown",
   "metadata": {},
   "source": [
    "<table id=\"limit_options\" class=\"tableblock frame-all grid-all stretch\">\n",
    "<caption class=\"title\">Table 3. Options to limit the output of <code>git log</code>\n",
    "</caption>\n",
    "<colgroup>\n",
    "<col style=\"width: 33.3333%;\">\n",
    "<col style=\"width: 66.6667%;\">\n",
    "</colgroup>\n",
    "<thead>\n",
    "<tr>\n",
    "<th class=\"tableblock halign-left valign-top\">Option</th>\n",
    "<th class=\"tableblock halign-left valign-top\">Description</th>\n",
    "</tr>\n",
    "</thead>\n",
    "<tbody>\n",
    "<tr>\n",
    "<td class=\"tableblock halign-left valign-top\"><p class=\"tableblock\"><code>-&lt;n&gt;</code></p></td>\n",
    "<td class=\"tableblock halign-left valign-top\"><p class=\"tableblock\">Show only the last n commits</p></td>\n",
    "</tr>\n",
    "<tr>\n",
    "<td class=\"tableblock halign-left valign-top\"><p class=\"tableblock\"><code>--since</code>, <code>--after</code></p></td>\n",
    "<td class=\"tableblock halign-left valign-top\"><p class=\"tableblock\">Limit the commits to those made after the specified date.</p></td>\n",
    "</tr>\n",
    "<tr>\n",
    "<td class=\"tableblock halign-left valign-top\"><p class=\"tableblock\"><code>--until</code>, <code>--before</code></p></td>\n",
    "<td class=\"tableblock halign-left valign-top\"><p class=\"tableblock\">Limit the commits to those made before the specified date.</p></td>\n",
    "</tr>\n",
    "<tr>\n",
    "<td class=\"tableblock halign-left valign-top\"><p class=\"tableblock\"><code>--author</code></p></td>\n",
    "<td class=\"tableblock halign-left valign-top\"><p class=\"tableblock\">Only show commits in which the author entry matches the specified string.</p></td>\n",
    "</tr>\n",
    "<tr>\n",
    "<td class=\"tableblock halign-left valign-top\"><p class=\"tableblock\"><code>--committer</code></p></td>\n",
    "<td class=\"tableblock halign-left valign-top\"><p class=\"tableblock\">Only show commits in which the committer entry matches the specified string.</p></td>\n",
    "</tr>\n",
    "<tr>\n",
    "<td class=\"tableblock halign-left valign-top\"><p class=\"tableblock\"><code>--grep</code></p></td>\n",
    "<td class=\"tableblock halign-left valign-top\"><p class=\"tableblock\">Only show commits with a commit message containing the string</p></td>\n",
    "</tr>\n",
    "<tr>\n",
    "<td class=\"tableblock halign-left valign-top\"><p class=\"tableblock\"><code>-S</code></p></td>\n",
    "<td class=\"tableblock halign-left valign-top\"><p class=\"tableblock\">Only show commits adding or removing code matching the string</p></td>\n",
    "</tr>\n",
    "</tbody>\n",
    "</table>"
   ]
  },
  {
   "cell_type": "code",
   "execution_count": 30,
   "metadata": {},
   "outputs": [
    {
     "name": "stdout",
     "output_type": "stream",
     "text": [
      "\u001b[33mcommit 7301ad3b52dea435d187d74e9f7f5bbefe500fe2\u001b[m\u001b[33m (\u001b[m\u001b[1;36mHEAD -> \u001b[m\u001b[1;32mmaster\u001b[m\u001b[33m)\u001b[m\r\n",
      "Author: Dmitry Brook <dmitrii_bryuhanov@mail.ru>\r\n",
      "Date:   Sun Oct 18 17:38:41 2020 +0300\r\n",
      "\r\n",
      "    first commit\r\n"
     ]
    }
   ],
   "source": [
    "!cd ./new_project/ && git log -n 2"
   ]
  },
  {
   "cell_type": "markdown",
   "metadata": {},
   "source": [
    "###### Limiting the period of commits to view: --since=YYYY-MM-DD"
   ]
  },
  {
   "cell_type": "code",
   "execution_count": 31,
   "metadata": {},
   "outputs": [
    {
     "name": "stdout",
     "output_type": "stream",
     "text": [
      "\u001b[33mcommit 7301ad3b52dea435d187d74e9f7f5bbefe500fe2\u001b[m\u001b[33m (\u001b[m\u001b[1;36mHEAD -> \u001b[m\u001b[1;32mmaster\u001b[m\u001b[33m)\u001b[m\r\n",
      "Author: Dmitry Brook <dmitrii_bryuhanov@mail.ru>\r\n",
      "Date:   Sun Oct 18 17:38:41 2020 +0300\r\n",
      "\r\n",
      "    first commit\r\n"
     ]
    }
   ],
   "source": [
    "!cd ./new_project/ && git log --since=2020-10-01"
   ]
  },
  {
   "cell_type": "code",
   "execution_count": 33,
   "metadata": {},
   "outputs": [
    {
     "name": "stdout",
     "output_type": "stream",
     "text": [
      "\u001b[33mcommit 7301ad3b52dea435d187d74e9f7f5bbefe500fe2\u001b[m\u001b[33m (\u001b[m\u001b[1;36mHEAD -> \u001b[m\u001b[1;32mmaster\u001b[m\u001b[33m)\u001b[m\r\n",
      "Author: Dmitry Brook <dmitrii_bryuhanov@mail.ru>\r\n",
      "Date:   Sun Oct 18 17:38:41 2020 +0300\r\n",
      "\r\n",
      "    first commit\r\n"
     ]
    }
   ],
   "source": [
    "!cd ./new_project/ && git log --until=2020-10-30"
   ]
  },
  {
   "cell_type": "code",
   "execution_count": 34,
   "metadata": {},
   "outputs": [
    {
     "name": "stdout",
     "output_type": "stream",
     "text": [
      "\u001b[33mcommit 7301ad3b52dea435d187d74e9f7f5bbefe500fe2\u001b[m\u001b[33m (\u001b[m\u001b[1;36mHEAD -> \u001b[m\u001b[1;32mmaster\u001b[m\u001b[33m)\u001b[m\r\n",
      "Author: Dmitry Brook <dmitrii_bryuhanov@mail.ru>\r\n",
      "Date:   Sun Oct 18 17:38:41 2020 +0300\r\n",
      "\r\n",
      "    first commit\r\n"
     ]
    }
   ],
   "source": [
    "!cd ./new_project/ && git log --author=\"Dmitry\""
   ]
  },
  {
   "cell_type": "markdown",
   "metadata": {},
   "source": [
    "### Limiting with GREP = Global search with Regular Expressions"
   ]
  },
  {
   "cell_type": "code",
   "execution_count": 38,
   "metadata": {},
   "outputs": [
    {
     "name": "stdout",
     "output_type": "stream",
     "text": [
      "\u001b[33mcommit 7301ad3b52dea435d187d74e9f7f5bbefe500fe2\u001b[m\u001b[33m (\u001b[m\u001b[1;36mHEAD -> \u001b[m\u001b[1;32mmaster\u001b[m\u001b[33m)\u001b[m\r\n",
      "Author: Dmitry Brook <dmitrii_bryuhanov@mail.ru>\r\n",
      "Date:   Sun Oct 18 17:38:41 2020 +0300\r\n",
      "\r\n",
      "    first commit\r\n"
     ]
    }
   ],
   "source": [
    "!cd ./new_project/ && git log --grep='first'"
   ]
  },
  {
   "cell_type": "code",
   "execution_count": 44,
   "metadata": {},
   "outputs": [
    {
     "name": "stdout",
     "output_type": "stream",
     "text": [
      "\u001b[33mcommit 7301ad3b52dea435d187d74e9f7f5bbefe500fe2\u001b[m\u001b[33m (\u001b[m\u001b[1;36mHEAD -> \u001b[m\u001b[1;32mmaster\u001b[m\u001b[33m)\u001b[m\r\n",
      "Author: Dmitry Brook <dmitrii_bryuhanov@mail.ru>\r\n",
      "Date:   Sun Oct 18 17:38:41 2020 +0300\r\n",
      "\r\n",
      "    first commit\r\n"
     ]
    }
   ],
   "source": [
    "!cd ./new_project/ && git log --grep='commit'"
   ]
  },
  {
   "cell_type": "markdown",
   "metadata": {},
   "source": [
    "# The three trees\n",
    "\n",
    "\n",
    "<div>\n",
    "<img src=\"./images/three_trees.png\" width=\"500\"/>\n",
    "</div>\n",
    "<hr>\n",
    "<h5>Staging a file</h5>\n",
    "<div>\n",
    "<img src=\"./images/add_A.png\" width=\"500\"/>\n",
    "</div>\n",
    "<hr>\n",
    "<h5>Committing a file</h5>\n",
    "<div>\n",
    "<img src=\"./images/commit_A.png\" width=\"500\"/>\n",
    "</div>\n",
    "<hr>\n",
    "<h5>Staging an updated file</h5>\n",
    "<div>\n",
    "<img src=\"./images/add_b.png\" width=\"500\"/>\n",
    "</div>\n",
    "<h5>Moving by the tree</h5>\n",
    "<ul>\n",
    "    <li><b>hard:</b> restores everything</li>\n",
    "    <li>\n",
    "        <b>mixed:</b> (default)\n",
    "        <ul>\n",
    "            <li>unstaged files: don't change</li>\n",
    "            <li>staged files: move to unstaged</li>\n",
    "            <li>commit files: move to unstaged</li>\n",
    "         </ul>\n",
    "    </li>\n",
    "    <li>\n",
    "        <b>soft:</b>\n",
    "        <ul>\n",
    "            <li>unstaged files: don't change</li>\n",
    "            <li>staged files: dont' change</li>\n",
    "            <li>commit files: move to staged</li>\n",
    "         </ul>\n",
    "    </li>\n",
    "</ul>\n",
    "<div>\n",
    "    <img src=\"./images/git_reset.jpg\" width=\"1000\"/>\n",
    "</div>"
   ]
  },
  {
   "cell_type": "markdown",
   "metadata": {},
   "source": [
    "# Checksum (Hash sha-1)\n",
    "\n",
    "1. Git generates a checksum for each change set\n",
    "2. Checksum algorithm converts data into a number\n",
    "3. Same data generates the same checksum\n",
    "4. The algorithm used is called SHA-1\n",
    "5. the number is a 40 character hexadecimal string (0-9, a-f)\n",
    "6. the metadata is considered in the algorithm, thus changing the author will change the sha-1 value\n",
    "7. every next change includes the sha-1 of the previous changes as part of data\n",
    "8. all this contributes to the INTEGRITY - one of the fundamental security pillars (from the CIA triad)"
   ]
  },
  {
   "cell_type": "code",
   "execution_count": 1,
   "metadata": {},
   "outputs": [
    {
     "name": "stdout",
     "output_type": "stream",
     "text": [
      "Collecting hashlib\n",
      "\u001b[?25l  Downloading https://files.pythonhosted.org/packages/74/bb/9003d081345e9f0451884146e9ea2cff6e4cc4deac9ffd4a9ee98b318a49/hashlib-20081119.zip (42kB)\n",
      "\u001b[K     |████████████████████████████████| 51kB 296kB/s eta 0:00:01\n",
      "\u001b[31m    ERROR: Command errored out with exit status 1:\n",
      "     command: '/Users/user/Documents/Full Stack/Git/env/bin/python3' -c 'import sys, setuptools, tokenize; sys.argv[0] = '\"'\"'/private/var/folders/9t/4jx8w7_s6f5blrh1yly746z80000gn/T/pip-install-ax9zrskt/hashlib/setup.py'\"'\"'; __file__='\"'\"'/private/var/folders/9t/4jx8w7_s6f5blrh1yly746z80000gn/T/pip-install-ax9zrskt/hashlib/setup.py'\"'\"';f=getattr(tokenize, '\"'\"'open'\"'\"', open)(__file__);code=f.read().replace('\"'\"'\\r\\n'\"'\"', '\"'\"'\\n'\"'\"');f.close();exec(compile(code, __file__, '\"'\"'exec'\"'\"'))' egg_info --egg-base pip-egg-info\n",
      "         cwd: /private/var/folders/9t/4jx8w7_s6f5blrh1yly746z80000gn/T/pip-install-ax9zrskt/hashlib/\n",
      "    Complete output (6 lines):\n",
      "    Traceback (most recent call last):\n",
      "      File \"<string>\", line 1, in <module>\n",
      "      File \"/private/var/folders/9t/4jx8w7_s6f5blrh1yly746z80000gn/T/pip-install-ax9zrskt/hashlib/setup.py\", line 68\n",
      "        print \"unknown OS, please update setup.py\"\n",
      "              ^\n",
      "    SyntaxError: Missing parentheses in call to 'print'. Did you mean print(\"unknown OS, please update setup.py\")?\n",
      "    ----------------------------------------\u001b[0m\n",
      "\u001b[31mERROR: Command errored out with exit status 1: python setup.py egg_info Check the logs for full command output.\u001b[0m\n",
      "\u001b[33mWARNING: You are using pip version 19.2.3, however version 20.2.4 is available.\n",
      "You should consider upgrading via the 'pip install --upgrade pip' command.\u001b[0m\n",
      "\u001b[?25h"
     ]
    }
   ],
   "source": [
    "! pip install hashlib"
   ]
  },
  {
   "cell_type": "code",
   "execution_count": 4,
   "metadata": {},
   "outputs": [],
   "source": [
    "import hashlib"
   ]
  },
  {
   "cell_type": "code",
   "execution_count": 5,
   "metadata": {},
   "outputs": [],
   "source": [
    "hash_ = hashlib.sha1(b'''Checksum (Hash sha-1)\n",
    "Git generates a checksum for each change set\n",
    "Checksum algorithm converts data into a number\n",
    "Same data generates the same checksum\n",
    "The algorithm used is called SHA-1\n",
    "the number is a 40 character hexadecimal string (0-9, a-f)\n",
    "the metadata is considered in the algorithm, thus changing the author will change the sha-1 value\n",
    "every next change includes the sha-1 of the previous changes as part of data\n",
    "all this contributes to the INTEGRITY - one of the fundamental security pillars (from the CIA triad)''')"
   ]
  },
  {
   "cell_type": "code",
   "execution_count": 10,
   "metadata": {},
   "outputs": [],
   "source": [
    "hash_2 = hashlib.sha1(b'''Checksum (Hash sha-1)\n",
    "Git generates a checksum for each change set\n",
    "Checksum algorithm converts data into a number\n",
    "Same data generates the same checksum\n",
    "The algorithm used is called SHA-1\n",
    "the number is a 40 character hexadecimal string (0-9, a-f)\n",
    "the metadata is considered in the algorithm, thus changing the author will change the sha-1 value\n",
    "every next change includes the sha-1 of the previous changes as part of data\n",
    "all this contributes to the INTEGRITY - one of the fundamental security pillars (from the CIA triad)''')"
   ]
  },
  {
   "cell_type": "code",
   "execution_count": 11,
   "metadata": {},
   "outputs": [
    {
     "output_type": "stream",
     "name": "stdout",
     "text": [
      "7d6477fc465a7cde711b4530bff04933e34ea34e\n7d6477fc465a7cde711b4530bff04933e34ea34e\nSame:True\n"
     ]
    }
   ],
   "source": [
    "print(hash_.hexdigest())\n",
    "print(hash_2.hexdigest())\n",
    "print(f\"Same:{hash_.hexdigest() == hash_2.hexdigest()}\")"
   ]
  },
  {
   "cell_type": "code",
   "execution_count": 56,
   "metadata": {},
   "outputs": [
    {
     "data": {
      "text/plain": [
       "40"
      ]
     },
     "execution_count": 56,
     "metadata": {},
     "output_type": "execute_result"
    }
   ],
   "source": [
    "len(hash_.hexdigest())"
   ]
  },
  {
   "cell_type": "markdown",
   "metadata": {},
   "source": [
    "## Head\n",
    "- is the pointer to the current / latest working branch (like the vinyl disk head)"
   ]
  },
  {
   "cell_type": "code",
   "execution_count": 71,
   "metadata": {},
   "outputs": [
    {
     "name": "stdout",
     "output_type": "stream",
     "text": [
      "7301ad3b52dea435d187d74e9f7f5bbefe500fe2\r\n"
     ]
    }
   ],
   "source": [
    "!cd ./new_project/ && cat .git/refs/heads/master"
   ]
  },
  {
   "cell_type": "code",
   "execution_count": 72,
   "metadata": {},
   "outputs": [
    {
     "name": "stdout",
     "output_type": "stream",
     "text": [
      "\u001b[33mcommit 7301ad3b52dea435d187d74e9f7f5bbefe500fe2\u001b[m\u001b[33m (\u001b[m\u001b[1;36mHEAD -> \u001b[m\u001b[1;32mmaster\u001b[m\u001b[33m)\u001b[m\r\n",
      "Author: Dmitry Brook <dmitrii_bryuhanov@mail.ru>\r\n",
      "Date:   Sun Oct 18 17:38:41 2020 +0300\r\n",
      "\r\n",
      "    first commit\r\n"
     ]
    }
   ],
   "source": [
    "!cd ./new_project/ && git log --grep='first'"
   ]
  },
  {
   "cell_type": "markdown",
   "metadata": {},
   "source": [
    "# Making changes\n",
    "\n",
    "### Adding"
   ]
  },
  {
   "cell_type": "code",
   "execution_count": 75,
   "metadata": {},
   "outputs": [
    {
     "name": "stdout",
     "output_type": "stream",
     "text": [
      "On branch master\r\n",
      "nothing to commit, working tree clean\r\n"
     ]
    }
   ],
   "source": [
    "!cd ./new_project/ && git status"
   ]
  },
  {
   "cell_type": "code",
   "execution_count": 76,
   "metadata": {},
   "outputs": [],
   "source": [
    "! touch ./new_project/second_file.txt"
   ]
  },
  {
   "cell_type": "code",
   "execution_count": 77,
   "metadata": {},
   "outputs": [],
   "source": [
    "! echo \"2. This is the second file text.\" > ./new_project/second_file.txt"
   ]
  },
  {
   "cell_type": "code",
   "execution_count": 78,
   "metadata": {},
   "outputs": [
    {
     "name": "stdout",
     "output_type": "stream",
     "text": [
      "2. This is the second file text.\r\n"
     ]
    }
   ],
   "source": [
    "! cat ./new_project/second_file.txt"
   ]
  },
  {
   "cell_type": "code",
   "execution_count": 79,
   "metadata": {},
   "outputs": [],
   "source": [
    "! touch ./new_project/third_file.txt"
   ]
  },
  {
   "cell_type": "code",
   "execution_count": 80,
   "metadata": {},
   "outputs": [],
   "source": [
    "! echo \"3. This is the third file text.\" > ./new_project/third_file.txt"
   ]
  },
  {
   "cell_type": "code",
   "execution_count": 81,
   "metadata": {},
   "outputs": [
    {
     "name": "stdout",
     "output_type": "stream",
     "text": [
      "3. This is the third file text.\r\n"
     ]
    }
   ],
   "source": [
    "! cat ./new_project/third_file.txt"
   ]
  },
  {
   "cell_type": "code",
   "execution_count": 82,
   "metadata": {},
   "outputs": [
    {
     "name": "stdout",
     "output_type": "stream",
     "text": [
      "On branch master\r\n",
      "Untracked files:\r\n",
      "  (use \"git add <file>...\" to include in what will be committed)\r\n",
      "\t\u001b[31msecond_file.txt\u001b[m\r\n",
      "\t\u001b[31mthird_file.txt\u001b[m\r\n",
      "\r\n",
      "nothing added to commit but untracked files present (use \"git add\" to track)\r\n"
     ]
    }
   ],
   "source": [
    "!cd ./new_project/ && git status"
   ]
  },
  {
   "cell_type": "code",
   "execution_count": 83,
   "metadata": {},
   "outputs": [],
   "source": [
    "!cd ./new_project/ && git add second_file.txt"
   ]
  },
  {
   "cell_type": "code",
   "execution_count": 84,
   "metadata": {},
   "outputs": [
    {
     "name": "stdout",
     "output_type": "stream",
     "text": [
      "On branch master\r\n",
      "Changes to be committed:\r\n",
      "  (use \"git restore --staged <file>...\" to unstage)\r\n",
      "\t\u001b[32mnew file:   second_file.txt\u001b[m\r\n",
      "\r\n",
      "Untracked files:\r\n",
      "  (use \"git add <file>...\" to include in what will be committed)\r\n",
      "\t\u001b[31mthird_file.txt\u001b[m\r\n",
      "\r\n"
     ]
    }
   ],
   "source": [
    "!cd ./new_project/ && git status"
   ]
  },
  {
   "cell_type": "code",
   "execution_count": 85,
   "metadata": {},
   "outputs": [
    {
     "name": "stdout",
     "output_type": "stream",
     "text": [
      "[master 35c1c01] add second file to the project\r\n",
      " 1 file changed, 1 insertion(+)\r\n",
      " create mode 100644 second_file.txt\r\n"
     ]
    }
   ],
   "source": [
    "!cd ./new_project/ && git commit -m \"add second file to the project\""
   ]
  },
  {
   "cell_type": "code",
   "execution_count": 86,
   "metadata": {},
   "outputs": [
    {
     "name": "stdout",
     "output_type": "stream",
     "text": [
      "\u001b[33mcommit 35c1c0117ea15e965e204864539374fa63874cd7\u001b[m\u001b[33m (\u001b[m\u001b[1;36mHEAD -> \u001b[m\u001b[1;32mmaster\u001b[m\u001b[33m)\u001b[m\r\n",
      "Author: Dmitry Brook <dmitrii_bryuhanov@mail.ru>\r\n",
      "Date:   Sun Oct 18 23:40:47 2020 +0300\r\n",
      "\r\n",
      "    add second file to the project\r\n",
      "\r\n",
      "\u001b[33mcommit 7301ad3b52dea435d187d74e9f7f5bbefe500fe2\u001b[m\r\n",
      "Author: Dmitry Brook <dmitrii_bryuhanov@mail.ru>\r\n",
      "Date:   Sun Oct 18 17:38:41 2020 +0300\r\n",
      "\r\n",
      "    first commit\r\n"
     ]
    }
   ],
   "source": [
    "!cd ./new_project/ && git log"
   ]
  },
  {
   "cell_type": "code",
   "execution_count": 87,
   "metadata": {},
   "outputs": [
    {
     "name": "stdout",
     "output_type": "stream",
     "text": [
      "On branch master\r\n",
      "Untracked files:\r\n",
      "  (use \"git add <file>...\" to include in what will be committed)\r\n",
      "\t\u001b[31mthird_file.txt\u001b[m\r\n",
      "\r\n",
      "nothing added to commit but untracked files present (use \"git add\" to track)\r\n"
     ]
    }
   ],
   "source": [
    "!cd ./new_project/ && git status"
   ]
  },
  {
   "cell_type": "code",
   "execution_count": 88,
   "metadata": {},
   "outputs": [],
   "source": [
    "!cd ./new_project/ && git add third_file.txt"
   ]
  },
  {
   "cell_type": "code",
   "execution_count": 89,
   "metadata": {},
   "outputs": [
    {
     "name": "stdout",
     "output_type": "stream",
     "text": [
      "[master d5495ca] add third file to the project\r\n",
      " 1 file changed, 1 insertion(+)\r\n",
      " create mode 100644 third_file.txt\r\n"
     ]
    }
   ],
   "source": [
    "!cd ./new_project/ && git commit -m \"add third file to the project\""
   ]
  },
  {
   "cell_type": "code",
   "execution_count": 90,
   "metadata": {},
   "outputs": [
    {
     "name": "stdout",
     "output_type": "stream",
     "text": [
      "On branch master\r\n",
      "nothing to commit, working tree clean\r\n"
     ]
    }
   ],
   "source": [
    "!cd ./new_project/ && git status"
   ]
  },
  {
   "cell_type": "code",
   "execution_count": 91,
   "metadata": {},
   "outputs": [
    {
     "name": "stdout",
     "output_type": "stream",
     "text": [
      "\u001b[33mcommit d5495ca08fcc851f9487da9f460201181d693c4a\u001b[m\u001b[33m (\u001b[m\u001b[1;36mHEAD -> \u001b[m\u001b[1;32mmaster\u001b[m\u001b[33m)\u001b[m\r\n",
      "Author: Dmitry Brook <dmitrii_bryuhanov@mail.ru>\r\n",
      "Date:   Sun Oct 18 23:43:27 2020 +0300\r\n",
      "\r\n",
      "    add third file to the project\r\n",
      "\r\n",
      "\u001b[33mcommit 35c1c0117ea15e965e204864539374fa63874cd7\u001b[m\r\n",
      "Author: Dmitry Brook <dmitrii_bryuhanov@mail.ru>\r\n",
      "Date:   Sun Oct 18 23:40:47 2020 +0300\r\n",
      "\r\n",
      "    add second file to the project\r\n",
      "\r\n",
      "\u001b[33mcommit 7301ad3b52dea435d187d74e9f7f5bbefe500fe2\u001b[m\r\n",
      "Author: Dmitry Brook <dmitrii_bryuhanov@mail.ru>\r\n",
      "Date:   Sun Oct 18 17:38:41 2020 +0300\r\n",
      "\r\n",
      "    first commit\r\n"
     ]
    }
   ],
   "source": [
    "!cd ./new_project/ && git log"
   ]
  },
  {
   "cell_type": "markdown",
   "metadata": {},
   "source": [
    "### Edditing"
   ]
  },
  {
   "cell_type": "code",
   "execution_count": 92,
   "metadata": {},
   "outputs": [
    {
     "name": "stdout",
     "output_type": "stream",
     "text": [
      "second_file.txt some_file.txt   third_file.txt\r\n"
     ]
    }
   ],
   "source": [
    "!cd ./new_project/ && ls"
   ]
  },
  {
   "cell_type": "code",
   "execution_count": 96,
   "metadata": {},
   "outputs": [
    {
     "name": "stdout",
     "output_type": "stream",
     "text": [
      "My new text.\r\n"
     ]
    }
   ],
   "source": [
    "!cd ./new_project/ && cat some_file.txt"
   ]
  },
  {
   "cell_type": "code",
   "execution_count": 97,
   "metadata": {},
   "outputs": [],
   "source": [
    "!cd ./new_project/ && echo \"Here's the new content.\" > some_file.txt"
   ]
  },
  {
   "cell_type": "code",
   "execution_count": 98,
   "metadata": {},
   "outputs": [
    {
     "name": "stdout",
     "output_type": "stream",
     "text": [
      "Here's the new content.\r\n"
     ]
    }
   ],
   "source": [
    "!cd ./new_project/ && cat some_file.txt"
   ]
  },
  {
   "cell_type": "code",
   "execution_count": 99,
   "metadata": {},
   "outputs": [
    {
     "name": "stdout",
     "output_type": "stream",
     "text": [
      "On branch master\r\n",
      "Changes not staged for commit:\r\n",
      "  (use \"git add <file>...\" to update what will be committed)\r\n",
      "  (use \"git restore <file>...\" to discard changes in working directory)\r\n",
      "\t\u001b[31mmodified:   some_file.txt\u001b[m\r\n",
      "\r\n",
      "no changes added to commit (use \"git add\" and/or \"git commit -a\")\r\n"
     ]
    }
   ],
   "source": [
    "!cd ./new_project/ && git status"
   ]
  },
  {
   "cell_type": "code",
   "execution_count": 100,
   "metadata": {},
   "outputs": [],
   "source": [
    "!cd ./new_project/ && git add some_file.txt"
   ]
  },
  {
   "cell_type": "code",
   "execution_count": 101,
   "metadata": {},
   "outputs": [
    {
     "name": "stdout",
     "output_type": "stream",
     "text": [
      "On branch master\r\n",
      "Changes to be committed:\r\n",
      "  (use \"git restore --staged <file>...\" to unstage)\r\n",
      "\t\u001b[32mmodified:   some_file.txt\u001b[m\r\n",
      "\r\n"
     ]
    }
   ],
   "source": [
    "!cd ./new_project/ && git status"
   ]
  },
  {
   "cell_type": "code",
   "execution_count": 102,
   "metadata": {},
   "outputs": [
    {
     "name": "stdout",
     "output_type": "stream",
     "text": [
      "2. This is the second file text.\r\n"
     ]
    }
   ],
   "source": [
    "!cd ./new_project/ && cat second_file.txt"
   ]
  },
  {
   "cell_type": "code",
   "execution_count": 103,
   "metadata": {},
   "outputs": [],
   "source": [
    "!cd ./new_project/ && echo \"Here's the new content for the second file.\" >> second_file.txt"
   ]
  },
  {
   "cell_type": "code",
   "execution_count": 104,
   "metadata": {},
   "outputs": [
    {
     "name": "stdout",
     "output_type": "stream",
     "text": [
      "2. This is the second file text.\r\n",
      "Here's the new content for the second file.\r\n"
     ]
    }
   ],
   "source": [
    "!cd ./new_project/ && cat second_file.txt"
   ]
  },
  {
   "cell_type": "code",
   "execution_count": 105,
   "metadata": {},
   "outputs": [],
   "source": [
    "!cd ./new_project/ && echo \"I wonder what is in the third file now?\" > third_file.txt"
   ]
  },
  {
   "cell_type": "code",
   "execution_count": 106,
   "metadata": {},
   "outputs": [
    {
     "name": "stdout",
     "output_type": "stream",
     "text": [
      "I wonder what is in the third file now?\r\n"
     ]
    }
   ],
   "source": [
    "!cd ./new_project/ && cat third_file.txt"
   ]
  },
  {
   "cell_type": "code",
   "execution_count": 107,
   "metadata": {},
   "outputs": [
    {
     "name": "stdout",
     "output_type": "stream",
     "text": [
      "On branch master\r\n",
      "Changes to be committed:\r\n",
      "  (use \"git restore --staged <file>...\" to unstage)\r\n",
      "\t\u001b[32mmodified:   some_file.txt\u001b[m\r\n",
      "\r\n",
      "Changes not staged for commit:\r\n",
      "  (use \"git add <file>...\" to update what will be committed)\r\n",
      "  (use \"git restore <file>...\" to discard changes in working directory)\r\n",
      "\t\u001b[31mmodified:   second_file.txt\u001b[m\r\n",
      "\t\u001b[31mmodified:   third_file.txt\u001b[m\r\n",
      "\r\n"
     ]
    }
   ],
   "source": [
    "!cd ./new_project/ && git status"
   ]
  },
  {
   "cell_type": "code",
   "execution_count": 108,
   "metadata": {},
   "outputs": [],
   "source": [
    "!cd ./new_project/ && git add second_file.txt"
   ]
  },
  {
   "cell_type": "code",
   "execution_count": 109,
   "metadata": {},
   "outputs": [
    {
     "name": "stdout",
     "output_type": "stream",
     "text": [
      "On branch master\r\n",
      "Changes to be committed:\r\n",
      "  (use \"git restore --staged <file>...\" to unstage)\r\n",
      "\t\u001b[32mmodified:   second_file.txt\u001b[m\r\n",
      "\t\u001b[32mmodified:   some_file.txt\u001b[m\r\n",
      "\r\n",
      "Changes not staged for commit:\r\n",
      "  (use \"git add <file>...\" to update what will be committed)\r\n",
      "  (use \"git restore <file>...\" to discard changes in working directory)\r\n",
      "\t\u001b[31mmodified:   third_file.txt\u001b[m\r\n",
      "\r\n"
     ]
    }
   ],
   "source": [
    "!cd ./new_project/ && git status"
   ]
  },
  {
   "cell_type": "code",
   "execution_count": 110,
   "metadata": {},
   "outputs": [],
   "source": [
    "!cd ./new_project/ && git add third_file.txt"
   ]
  },
  {
   "cell_type": "code",
   "execution_count": 112,
   "metadata": {},
   "outputs": [
    {
     "name": "stdout",
     "output_type": "stream",
     "text": [
      "[master 60e2cb4] Edit second & third files\r\n",
      " 3 files changed, 3 insertions(+), 2 deletions(-)\r\n"
     ]
    }
   ],
   "source": [
    "!cd ./new_project/ && git commit -m \"Edit second & third files\""
   ]
  },
  {
   "cell_type": "code",
   "execution_count": 113,
   "metadata": {},
   "outputs": [
    {
     "name": "stdout",
     "output_type": "stream",
     "text": [
      "\u001b[33mcommit 60e2cb4d4c8c131b25281365dd8b0c37033f93a3\u001b[m\u001b[33m (\u001b[m\u001b[1;36mHEAD -> \u001b[m\u001b[1;32mmaster\u001b[m\u001b[33m)\u001b[m\r\n",
      "Author: Dmitry Brook <dmitrii_bryuhanov@mail.ru>\r\n",
      "Date:   Mon Oct 19 00:06:32 2020 +0300\r\n",
      "\r\n",
      "    Edit second & third files\r\n",
      "\r\n",
      "\u001b[33mcommit d5495ca08fcc851f9487da9f460201181d693c4a\u001b[m\r\n",
      "Author: Dmitry Brook <dmitrii_bryuhanov@mail.ru>\r\n",
      "Date:   Sun Oct 18 23:43:27 2020 +0300\r\n",
      "\r\n",
      "    add third file to the project\r\n",
      "\r\n",
      "\u001b[33mcommit 35c1c0117ea15e965e204864539374fa63874cd7\u001b[m\r\n",
      "Author: Dmitry Brook <dmitrii_bryuhanov@mail.ru>\r\n",
      "Date:   Sun Oct 18 23:40:47 2020 +0300\r\n",
      "\r\n",
      "    add second file to the project\r\n",
      "\r\n",
      "\u001b[33mcommit 7301ad3b52dea435d187d74e9f7f5bbefe500fe2\u001b[m\r\n",
      "Author: Dmitry Brook <dmitrii_bryuhanov@mail.ru>\r\n",
      "Date:   Sun Oct 18 17:38:41 2020 +0300\r\n",
      "\r\n",
      "    first commit\r\n"
     ]
    }
   ],
   "source": [
    "!cd ./new_project/ && git log"
   ]
  },
  {
   "cell_type": "markdown",
   "metadata": {},
   "source": [
    "### Viewing changes"
   ]
  },
  {
   "cell_type": "code",
   "execution_count": 115,
   "metadata": {},
   "outputs": [],
   "source": [
    "!cd ./new_project/ && echo \"Let's change something in the file\" > some_file.txt"
   ]
  },
  {
   "cell_type": "code",
   "execution_count": 116,
   "metadata": {},
   "outputs": [
    {
     "name": "stdout",
     "output_type": "stream",
     "text": [
      "\u001b[1mdiff --git a/some_file.txt b/some_file.txt\u001b[m\r\n",
      "\u001b[1mindex 9c1afca..28675b1 100644\u001b[m\r\n",
      "\u001b[1m--- a/some_file.txt\u001b[m\r\n",
      "\u001b[1m+++ b/some_file.txt\u001b[m\r\n",
      "\u001b[36m@@ -1 +1 @@\u001b[m\r\n",
      "\u001b[31m-Here's the new content.\u001b[m\r\n",
      "\u001b[32m+\u001b[m\u001b[32mLet's change something in the file\u001b[m\r\n"
     ]
    }
   ],
   "source": [
    "!cd ./new_project/ && git diff"
   ]
  },
  {
   "cell_type": "code",
   "execution_count": 117,
   "metadata": {},
   "outputs": [],
   "source": [
    "!cd ./new_project/ && echo \"What if we add even more data?\" >> some_file.txt"
   ]
  },
  {
   "cell_type": "code",
   "execution_count": 118,
   "metadata": {},
   "outputs": [
    {
     "name": "stdout",
     "output_type": "stream",
     "text": [
      "\u001b[1mdiff --git a/some_file.txt b/some_file.txt\u001b[m\r\n",
      "\u001b[1mindex 9c1afca..f07ea3e 100644\u001b[m\r\n",
      "\u001b[1m--- a/some_file.txt\u001b[m\r\n",
      "\u001b[1m+++ b/some_file.txt\u001b[m\r\n",
      "\u001b[36m@@ -1 +1,2 @@\u001b[m\r\n",
      "\u001b[31m-Here's the new content.\u001b[m\r\n",
      "\u001b[32m+\u001b[m\u001b[32mLet's change something in the file\u001b[m\r\n",
      "\u001b[32m+\u001b[m\u001b[32mWhat if we add even more data?\u001b[m\r\n"
     ]
    }
   ],
   "source": [
    "!cd ./new_project/ && git diff"
   ]
  },
  {
   "cell_type": "markdown",
   "metadata": {},
   "source": [
    "### View only Staged changes"
   ]
  },
  {
   "cell_type": "code",
   "execution_count": 119,
   "metadata": {},
   "outputs": [
    {
     "name": "stdout",
     "output_type": "stream",
     "text": [
      "On branch master\r\n",
      "Changes not staged for commit:\r\n",
      "  (use \"git add <file>...\" to update what will be committed)\r\n",
      "  (use \"git restore <file>...\" to discard changes in working directory)\r\n",
      "\t\u001b[31mmodified:   some_file.txt\u001b[m\r\n",
      "\r\n",
      "no changes added to commit (use \"git add\" and/or \"git commit -a\")\r\n"
     ]
    }
   ],
   "source": [
    "!cd ./new_project/ && git status"
   ]
  },
  {
   "cell_type": "code",
   "execution_count": 122,
   "metadata": {},
   "outputs": [],
   "source": [
    "!cd ./new_project/ && git add some_file.txt"
   ]
  },
  {
   "cell_type": "code",
   "execution_count": 123,
   "metadata": {},
   "outputs": [
    {
     "name": "stdout",
     "output_type": "stream",
     "text": [
      "\u001b[1mdiff --git a/some_file.txt b/some_file.txt\u001b[m\r\n",
      "\u001b[1mindex 9c1afca..f07ea3e 100644\u001b[m\r\n",
      "\u001b[1m--- a/some_file.txt\u001b[m\r\n",
      "\u001b[1m+++ b/some_file.txt\u001b[m\r\n",
      "\u001b[36m@@ -1 +1,2 @@\u001b[m\r\n",
      "\u001b[31m-Here's the new content.\u001b[m\r\n",
      "\u001b[32m+\u001b[m\u001b[32mLet's change something in the file\u001b[m\r\n",
      "\u001b[32m+\u001b[m\u001b[32mWhat if we add even more data?\u001b[m\r\n"
     ]
    }
   ],
   "source": [
    "!cd ./new_project/ && git diff --staged"
   ]
  },
  {
   "cell_type": "markdown",
   "metadata": {},
   "source": [
    "#### Same as above (--cached is an alias of --staged)"
   ]
  },
  {
   "cell_type": "code",
   "execution_count": 125,
   "metadata": {},
   "outputs": [
    {
     "name": "stdout",
     "output_type": "stream",
     "text": [
      "\u001b[1mdiff --git a/some_file.txt b/some_file.txt\u001b[m\r\n",
      "\u001b[1mindex 9c1afca..f07ea3e 100644\u001b[m\r\n",
      "\u001b[1m--- a/some_file.txt\u001b[m\r\n",
      "\u001b[1m+++ b/some_file.txt\u001b[m\r\n",
      "\u001b[36m@@ -1 +1,2 @@\u001b[m\r\n",
      "\u001b[31m-Here's the new content.\u001b[m\r\n",
      "\u001b[32m+\u001b[m\u001b[32mLet's change something in the file\u001b[m\r\n",
      "\u001b[32m+\u001b[m\u001b[32mWhat if we add even more data?\u001b[m\r\n"
     ]
    }
   ],
   "source": [
    "!cd ./new_project/ && git diff --cached"
   ]
  },
  {
   "cell_type": "markdown",
   "metadata": {},
   "source": [
    "When nothing is left unchanged in the working tree, do differences are shown"
   ]
  },
  {
   "cell_type": "code",
   "execution_count": 126,
   "metadata": {},
   "outputs": [],
   "source": [
    "!cd ./new_project/ && git diff"
   ]
  },
  {
   "cell_type": "code",
   "execution_count": 127,
   "metadata": {},
   "outputs": [
    {
     "name": "stdout",
     "output_type": "stream",
     "text": [
      "[master 70f750d] Adding changes for the testing purposes\r\n",
      " 1 file changed, 2 insertions(+), 1 deletion(-)\r\n"
     ]
    }
   ],
   "source": [
    "!cd ./new_project/ && git commit -m \"Adding changes for the testing purposes\""
   ]
  },
  {
   "cell_type": "code",
   "execution_count": 128,
   "metadata": {},
   "outputs": [],
   "source": [
    "!cd ./new_project/ && git diff --cached"
   ]
  },
  {
   "cell_type": "markdown",
   "metadata": {},
   "source": [
    "## Deleting files"
   ]
  },
  {
   "cell_type": "code",
   "execution_count": 129,
   "metadata": {},
   "outputs": [],
   "source": [
    "!cd ./new_project/ && touch to_be_deleted.txt"
   ]
  },
  {
   "cell_type": "code",
   "execution_count": 130,
   "metadata": {},
   "outputs": [],
   "source": [
    "!cd ./new_project/ && echo \"content for deletion\" > to_be_deleted.txt"
   ]
  },
  {
   "cell_type": "code",
   "execution_count": 131,
   "metadata": {},
   "outputs": [
    {
     "name": "stdout",
     "output_type": "stream",
     "text": [
      "On branch master\r\n",
      "Untracked files:\r\n",
      "  (use \"git add <file>...\" to include in what will be committed)\r\n",
      "\t\u001b[31mto_be_deleted.txt\u001b[m\r\n",
      "\r\n",
      "nothing added to commit but untracked files present (use \"git add\" to track)\r\n"
     ]
    }
   ],
   "source": [
    "!cd ./new_project/ && git status"
   ]
  },
  {
   "cell_type": "code",
   "execution_count": 132,
   "metadata": {},
   "outputs": [],
   "source": [
    "!cd ./new_project/ && git add ."
   ]
  },
  {
   "cell_type": "code",
   "execution_count": 133,
   "metadata": {},
   "outputs": [
    {
     "name": "stdout",
     "output_type": "stream",
     "text": [
      "[master d359401] Adding a file to be deleted\r\n",
      " 1 file changed, 1 insertion(+)\r\n",
      " create mode 100644 to_be_deleted.txt\r\n"
     ]
    }
   ],
   "source": [
    "!cd ./new_project/ && git commit -m \"Adding a file to be deleted\""
   ]
  },
  {
   "cell_type": "code",
   "execution_count": 134,
   "metadata": {},
   "outputs": [
    {
     "name": "stdout",
     "output_type": "stream",
     "text": [
      "rm 'to_be_deleted.txt'\r\n"
     ]
    }
   ],
   "source": [
    "!cd ./new_project/ && git rm to_be_deleted.txt"
   ]
  },
  {
   "cell_type": "markdown",
   "metadata": {},
   "source": [
    "### Moves the file to the staging directory"
   ]
  },
  {
   "cell_type": "code",
   "execution_count": 135,
   "metadata": {},
   "outputs": [
    {
     "name": "stdout",
     "output_type": "stream",
     "text": [
      "On branch master\r\n",
      "Changes to be committed:\r\n",
      "  (use \"git restore --staged <file>...\" to unstage)\r\n",
      "\t\u001b[32mdeleted:    to_be_deleted.txt\u001b[m\r\n",
      "\r\n"
     ]
    }
   ],
   "source": [
    "!cd ./new_project/ && git status"
   ]
  },
  {
   "cell_type": "code",
   "execution_count": 136,
   "metadata": {},
   "outputs": [
    {
     "name": "stdout",
     "output_type": "stream",
     "text": [
      "[master 9db3f32] Removing the file ment for deletion\r\n",
      " 1 file changed, 1 deletion(-)\r\n",
      " delete mode 100644 to_be_deleted.txt\r\n"
     ]
    }
   ],
   "source": [
    "!cd ./new_project/ && git commit -m \"Removing the file ment for deletion\""
   ]
  },
  {
   "cell_type": "code",
   "execution_count": 137,
   "metadata": {},
   "outputs": [
    {
     "name": "stdout",
     "output_type": "stream",
     "text": [
      "On branch master\r\n",
      "nothing to commit, working tree clean\r\n"
     ]
    }
   ],
   "source": [
    "!cd ./new_project/ && git status"
   ]
  },
  {
   "cell_type": "markdown",
   "metadata": {},
   "source": [
    "## Moving & renaming files\n",
    "\n",
    "1. Change some_file.txt name to be first_file.txt - in **bash** (immitating renaming by hand)\n",
    "2. Check the status"
   ]
  },
  {
   "cell_type": "code",
   "execution_count": 138,
   "metadata": {},
   "outputs": [],
   "source": [
    "%%bash\n",
    "mv ./new_project/some_file.txt ./new_project/first_file.txt"
   ]
  },
  {
   "cell_type": "code",
   "execution_count": 139,
   "metadata": {},
   "outputs": [
    {
     "name": "stdout",
     "output_type": "stream",
     "text": [
      "total 24\r\n",
      "drwxr-xr-x   6 user  staff  192 Oct 19 09:53 \u001b[34m.\u001b[m\u001b[m\r\n",
      "drwxr-xr-x   9 user  staff  288 Oct 19 09:53 \u001b[34m..\u001b[m\u001b[m\r\n",
      "drwxr-xr-x  12 user  staff  384 Oct 19 09:43 \u001b[34m.git\u001b[m\u001b[m\r\n",
      "-rw-r--r--@  1 user  staff   66 Oct 19 00:10 first_file.txt\r\n",
      "-rw-r--r--   1 user  staff   77 Oct 18 23:58 second_file.txt\r\n",
      "-rw-r--r--   1 user  staff   40 Oct 18 23:59 third_file.txt\r\n"
     ]
    }
   ],
   "source": [
    "!cd ./new_project/ && ls -la"
   ]
  },
  {
   "cell_type": "code",
   "execution_count": 140,
   "metadata": {},
   "outputs": [
    {
     "name": "stdout",
     "output_type": "stream",
     "text": [
      "On branch master\r\n",
      "Changes not staged for commit:\r\n",
      "  (use \"git add/rm <file>...\" to update what will be committed)\r\n",
      "  (use \"git restore <file>...\" to discard changes in working directory)\r\n",
      "\t\u001b[31mdeleted:    some_file.txt\u001b[m\r\n",
      "\r\n",
      "Untracked files:\r\n",
      "  (use \"git add <file>...\" to include in what will be committed)\r\n",
      "\t\u001b[31mfirst_file.txt\u001b[m\r\n",
      "\r\n",
      "no changes added to commit (use \"git add\" and/or \"git commit -a\")\r\n"
     ]
    }
   ],
   "source": [
    "!cd ./new_project/ && git status"
   ]
  },
  {
   "cell_type": "code",
   "execution_count": 141,
   "metadata": {},
   "outputs": [],
   "source": [
    "!cd ./new_project/ && git add first_file.txt"
   ]
  },
  {
   "cell_type": "code",
   "execution_count": 142,
   "metadata": {},
   "outputs": [
    {
     "name": "stdout",
     "output_type": "stream",
     "text": [
      "rm 'some_file.txt'\r\n"
     ]
    }
   ],
   "source": [
    "!cd ./new_project/ && git rm some_file.txt"
   ]
  },
  {
   "cell_type": "code",
   "execution_count": 143,
   "metadata": {},
   "outputs": [
    {
     "name": "stdout",
     "output_type": "stream",
     "text": [
      "On branch master\r\n",
      "Changes to be committed:\r\n",
      "  (use \"git restore --staged <file>...\" to unstage)\r\n",
      "\t\u001b[32mrenamed:    some_file.txt -> first_file.txt\u001b[m\r\n",
      "\r\n"
     ]
    }
   ],
   "source": [
    "!cd ./new_project/ && git status"
   ]
  },
  {
   "cell_type": "code",
   "execution_count": 144,
   "metadata": {},
   "outputs": [],
   "source": [
    "!cd ./new_project/ && git mv second_file.txt 2nd_file.txt"
   ]
  },
  {
   "cell_type": "code",
   "execution_count": 145,
   "metadata": {},
   "outputs": [
    {
     "name": "stdout",
     "output_type": "stream",
     "text": [
      "On branch master\r\n",
      "Changes to be committed:\r\n",
      "  (use \"git restore --staged <file>...\" to unstage)\r\n",
      "\t\u001b[32mrenamed:    second_file.txt -> 2nd_file.txt\u001b[m\r\n",
      "\t\u001b[32mrenamed:    some_file.txt -> first_file.txt\u001b[m\r\n",
      "\r\n"
     ]
    }
   ],
   "source": [
    "!cd ./new_project/ && git status"
   ]
  },
  {
   "cell_type": "markdown",
   "metadata": {},
   "source": [
    "### Immitation of manual file moving to a folder (the long way)"
   ]
  },
  {
   "cell_type": "code",
   "execution_count": 146,
   "metadata": {},
   "outputs": [],
   "source": [
    "%%bash\n",
    "mkdir -p ./new_project/new_folder;"
   ]
  },
  {
   "cell_type": "code",
   "execution_count": 147,
   "metadata": {},
   "outputs": [],
   "source": [
    "%%bash\n",
    "mv ./new_project/first_file.txt ./new_project/new_folder/first_file.txt"
   ]
  },
  {
   "cell_type": "code",
   "execution_count": 148,
   "metadata": {},
   "outputs": [
    {
     "name": "stdout",
     "output_type": "stream",
     "text": [
      "On branch master\r\n",
      "Changes to be committed:\r\n",
      "  (use \"git restore --staged <file>...\" to unstage)\r\n",
      "\t\u001b[32mrenamed:    second_file.txt -> 2nd_file.txt\u001b[m\r\n",
      "\t\u001b[32mrenamed:    some_file.txt -> first_file.txt\u001b[m\r\n",
      "\r\n",
      "Changes not staged for commit:\r\n",
      "  (use \"git add/rm <file>...\" to update what will be committed)\r\n",
      "  (use \"git restore <file>...\" to discard changes in working directory)\r\n",
      "\t\u001b[31mdeleted:    first_file.txt\u001b[m\r\n",
      "\r\n",
      "Untracked files:\r\n",
      "  (use \"git add <file>...\" to include in what will be committed)\r\n",
      "\t\u001b[31mnew_folder/\u001b[m\r\n",
      "\r\n"
     ]
    }
   ],
   "source": [
    "!cd ./new_project/ && git status"
   ]
  },
  {
   "cell_type": "code",
   "execution_count": 149,
   "metadata": {},
   "outputs": [],
   "source": [
    "!cd ./new_project/ && git add ."
   ]
  },
  {
   "cell_type": "code",
   "execution_count": 150,
   "metadata": {},
   "outputs": [
    {
     "name": "stdout",
     "output_type": "stream",
     "text": [
      "[master 52ea0c6] Miving the first_file to the new_folder\r\n",
      " 2 files changed, 0 insertions(+), 0 deletions(-)\r\n",
      " rename second_file.txt => 2nd_file.txt (100%)\r\n",
      " rename some_file.txt => new_folder/first_file.txt (100%)\r\n"
     ]
    }
   ],
   "source": [
    "!cd ./new_project/ && git commit -m \"Miving the first_file to the new_folder\""
   ]
  },
  {
   "cell_type": "code",
   "execution_count": 151,
   "metadata": {},
   "outputs": [
    {
     "name": "stdout",
     "output_type": "stream",
     "text": [
      "On branch master\r\n",
      "nothing to commit, working tree clean\r\n"
     ]
    }
   ],
   "source": [
    "!cd ./new_project/ && git status"
   ]
  },
  {
   "cell_type": "markdown",
   "metadata": {},
   "source": [
    "### Proper moving to a folder"
   ]
  },
  {
   "cell_type": "code",
   "execution_count": 152,
   "metadata": {},
   "outputs": [],
   "source": [
    "!cd ./new_project/ && git mv 2nd_file.txt new_folder/2nd_file.txt"
   ]
  },
  {
   "cell_type": "code",
   "execution_count": 153,
   "metadata": {},
   "outputs": [
    {
     "name": "stdout",
     "output_type": "stream",
     "text": [
      "On branch master\r\n",
      "Changes to be committed:\r\n",
      "  (use \"git restore --staged <file>...\" to unstage)\r\n",
      "\t\u001b[32mrenamed:    2nd_file.txt -> new_folder/2nd_file.txt\u001b[m\r\n",
      "\r\n"
     ]
    }
   ],
   "source": [
    "!cd ./new_project/ && git status"
   ]
  },
  {
   "cell_type": "code",
   "execution_count": 154,
   "metadata": {},
   "outputs": [
    {
     "name": "stdout",
     "output_type": "stream",
     "text": [
      "[master da72b30] Reorganazing file\r\n",
      " 1 file changed, 0 insertions(+), 0 deletions(-)\r\n",
      " rename 2nd_file.txt => new_folder/2nd_file.txt (100%)\r\n"
     ]
    }
   ],
   "source": [
    "!cd ./new_project/ && git commit -m \"Reorganazing the files\""
   ]
  },
  {
   "cell_type": "markdown",
   "metadata": {},
   "source": [
    "### Let's explore our log"
   ]
  },
  {
   "cell_type": "code",
   "execution_count": 155,
   "metadata": {},
   "outputs": [
    {
     "name": "stdout",
     "output_type": "stream",
     "text": [
      "\u001b[33mcommit da72b304730e21ea8a006c193148870ade941594\u001b[m\u001b[33m (\u001b[m\u001b[1;36mHEAD -> \u001b[m\u001b[1;32mmaster\u001b[m\u001b[33m)\u001b[m\r\n",
      "Author: Dmitry Brook <dmitrii_bryuhanov@mail.ru>\r\n",
      "Date:   Mon Oct 19 10:15:03 2020 +0300\r\n",
      "\r\n",
      "    Reorganazing file\r\n",
      "\r\n",
      "\u001b[33mcommit 52ea0c673341baccd30b4e7f9cf12164d5944ff3\u001b[m\r\n",
      "Author: Dmitry Brook <dmitrii_bryuhanov@mail.ru>\r\n",
      "Date:   Mon Oct 19 10:11:34 2020 +0300\r\n",
      "\r\n",
      "    Miving the first_file to the new_folder\r\n",
      "\r\n",
      "\u001b[33mcommit 9db3f3275cc89b0a9dcef253d5d7290ede088eab\u001b[m\r\n",
      "Author: Dmitry Brook <dmitrii_bryuhanov@mail.ru>\r\n",
      "Date:   Mon Oct 19 09:43:27 2020 +0300\r\n",
      "\r\n",
      "    Removing the file ment for deletion\r\n",
      "\r\n",
      "\u001b[33mcommit d359401e5a9e23b368d37a9e64549fa2f060c41e\u001b[m\r\n",
      "Author: Dmitry Brook <dmitrii_bryuhanov@mail.ru>\r\n",
      "Date:   Mon Oct 19 09:39:17 2020 +0300\r\n",
      "\r\n",
      "    Adding a file to be deleted\r\n",
      "\r\n",
      "\u001b[33mcommit 70f750d0eb92ae1e519ebbe168f81219dcd0b3e0\u001b[m\r\n",
      "Author: Dmitry Brook <dmitrii_bryuhanov@mail.ru>\r\n",
      "Date:   Mon Oct 19 09:34:11 2020 +0300\r\n",
      "\r\n",
      "    Adding changes for the testing purposes\r\n",
      "\r\n",
      "\u001b[33mcommit 60e2cb4d4c8c131b25281365dd8b0c37033f93a3\u001b[m\r\n",
      "Author: Dmitry Brook <dmitrii_bryuhanov@mail.ru>\r\n",
      "Date:   Mon Oct 19 00:06:32 2020 +0300\r\n",
      "\r\n",
      "    Edit second & third files\r\n",
      "\r\n",
      "\u001b[33mcommit d5495ca08fcc851f9487da9f460201181d693c4a\u001b[m\r\n",
      "Author: Dmitry Brook <dmitrii_bryuhanov@mail.ru>\r\n",
      "Date:   Sun Oct 18 23:43:27 2020 +0300\r\n",
      "\r\n",
      "    add third file to the project\r\n",
      "\r\n",
      "\u001b[33mcommit 35c1c0117ea15e965e204864539374fa63874cd7\u001b[m\r\n",
      "Author: Dmitry Brook <dmitrii_bryuhanov@mail.ru>\r\n",
      "Date:   Sun Oct 18 23:40:47 2020 +0300\r\n",
      "\r\n",
      "    add second file to the project\r\n",
      "\r\n",
      "\u001b[33mcommit 7301ad3b52dea435d187d74e9f7f5bbefe500fe2\u001b[m\r\n",
      "Author: Dmitry Brook <dmitrii_bryuhanov@mail.ru>\r\n",
      "Date:   Sun Oct 18 17:38:41 2020 +0300\r\n",
      "\r\n",
      "    first commit\r\n"
     ]
    }
   ],
   "source": [
    "!cd ./new_project/ && git log"
   ]
  },
  {
   "cell_type": "markdown",
   "metadata": {},
   "source": [
    "## Stage & commit shortcut (git commit --all | -a)"
   ]
  },
  {
   "cell_type": "code",
   "execution_count": 156,
   "metadata": {},
   "outputs": [],
   "source": [
    "%%bash\n",
    "mv ./new_project/third_file.txt ./new_project/new_folder/third_file.txt"
   ]
  },
  {
   "cell_type": "code",
   "execution_count": 157,
   "metadata": {},
   "outputs": [
    {
     "name": "stdout",
     "output_type": "stream",
     "text": [
      "On branch master\r\n",
      "Changes not staged for commit:\r\n",
      "  (use \"git add/rm <file>...\" to update what will be committed)\r\n",
      "  (use \"git restore <file>...\" to discard changes in working directory)\r\n",
      "\t\u001b[31mdeleted:    third_file.txt\u001b[m\r\n",
      "\r\n",
      "Untracked files:\r\n",
      "  (use \"git add <file>...\" to include in what will be committed)\r\n",
      "\t\u001b[31mnew_folder/third_file.txt\u001b[m\r\n",
      "\r\n",
      "no changes added to commit (use \"git add\" and/or \"git commit -a\")\r\n"
     ]
    }
   ],
   "source": [
    "!cd ./new_project/ && git status"
   ]
  },
  {
   "cell_type": "code",
   "execution_count": 158,
   "metadata": {},
   "outputs": [
    {
     "name": "stdout",
     "output_type": "stream",
     "text": [
      "[master cfce25a] Adding the third_file to the new_folder\r\n",
      " 1 file changed, 1 deletion(-)\r\n",
      " delete mode 100644 third_file.txt\r\n"
     ]
    }
   ],
   "source": [
    "!cd ./new_project/ && git commit -am \"Adding the third_file to the new_folder\""
   ]
  },
  {
   "cell_type": "markdown",
   "metadata": {},
   "source": [
    "#### This doesn't work for untracked files:"
   ]
  },
  {
   "cell_type": "code",
   "execution_count": 159,
   "metadata": {},
   "outputs": [
    {
     "name": "stdout",
     "output_type": "stream",
     "text": [
      "On branch master\r\n",
      "Untracked files:\r\n",
      "  (use \"git add <file>...\" to include in what will be committed)\r\n",
      "\t\u001b[31mnew_folder/third_file.txt\u001b[m\r\n",
      "\r\n",
      "nothing added to commit but untracked files present (use \"git add\" to track)\r\n"
     ]
    }
   ],
   "source": [
    "!cd ./new_project/ && git status"
   ]
  },
  {
   "cell_type": "code",
   "execution_count": 160,
   "metadata": {},
   "outputs": [],
   "source": [
    "!cd ./new_project/ && git add ."
   ]
  },
  {
   "cell_type": "code",
   "execution_count": 161,
   "metadata": {},
   "outputs": [
    {
     "name": "stdout",
     "output_type": "stream",
     "text": [
      "[master 9f7fbf4] Adding the third_file to the new_folder\r\n",
      " 1 file changed, 1 insertion(+)\r\n",
      " create mode 100644 new_folder/third_file.txt\r\n"
     ]
    }
   ],
   "source": [
    "!cd ./new_project/ && git commit -am \"Adding the third_file to the new_folder\""
   ]
  },
  {
   "cell_type": "code",
   "execution_count": 162,
   "metadata": {},
   "outputs": [
    {
     "name": "stdout",
     "output_type": "stream",
     "text": [
      "On branch master\r\n",
      "nothing to commit, working tree clean\r\n"
     ]
    }
   ],
   "source": [
    "!cd ./new_project/ && git status"
   ]
  },
  {
   "cell_type": "markdown",
   "metadata": {},
   "source": [
    "### Now that the file IS tracked, we can stage & commit all in one line"
   ]
  },
  {
   "cell_type": "code",
   "execution_count": 163,
   "metadata": {},
   "outputs": [
    {
     "name": "stdout",
     "output_type": "stream",
     "text": [
      "I wonder what is in the third file now?\r\n"
     ]
    }
   ],
   "source": [
    "!cd ./new_project/ && cat new_folder/third_file.txt"
   ]
  },
  {
   "cell_type": "code",
   "execution_count": 164,
   "metadata": {},
   "outputs": [],
   "source": [
    "!cd ./new_project/ && echo \"New line in the third file\" > new_folder/third_file.txt"
   ]
  },
  {
   "cell_type": "code",
   "execution_count": 165,
   "metadata": {},
   "outputs": [
    {
     "name": "stdout",
     "output_type": "stream",
     "text": [
      "On branch master\r\n",
      "Changes not staged for commit:\r\n",
      "  (use \"git add <file>...\" to update what will be committed)\r\n",
      "  (use \"git restore <file>...\" to discard changes in working directory)\r\n",
      "\t\u001b[31mmodified:   new_folder/third_file.txt\u001b[m\r\n",
      "\r\n",
      "no changes added to commit (use \"git add\" and/or \"git commit -a\")\r\n"
     ]
    }
   ],
   "source": [
    "!cd ./new_project/ && git status"
   ]
  },
  {
   "cell_type": "code",
   "execution_count": 166,
   "metadata": {},
   "outputs": [
    {
     "name": "stdout",
     "output_type": "stream",
     "text": [
      "[master 8d044bd] Adding a new line to the third file\r\n",
      " 1 file changed, 1 insertion(+), 1 deletion(-)\r\n"
     ]
    }
   ],
   "source": [
    "!cd ./new_project/ && git commit -am \"Adding a new line to the third file\""
   ]
  },
  {
   "cell_type": "code",
   "execution_count": 167,
   "metadata": {},
   "outputs": [
    {
     "name": "stdout",
     "output_type": "stream",
     "text": [
      "On branch master\r\n",
      "nothing to commit, working tree clean\r\n"
     ]
    }
   ],
   "source": [
    "!cd ./new_project/ && git status"
   ]
  },
  {
   "cell_type": "markdown",
   "metadata": {},
   "source": [
    "### Getting only the last commit log (-n1)"
   ]
  },
  {
   "cell_type": "code",
   "execution_count": 168,
   "metadata": {},
   "outputs": [
    {
     "name": "stdout",
     "output_type": "stream",
     "text": [
      "\u001b[33mcommit 8d044bd25bf6f05504d1a0ba044e0969a91a0858\u001b[m\u001b[33m (\u001b[m\u001b[1;36mHEAD -> \u001b[m\u001b[1;32mmaster\u001b[m\u001b[33m)\u001b[m\r\n",
      "Author: Dmitry Brook <dmitrii_bryuhanov@mail.ru>\r\n",
      "Date:   Mon Oct 19 10:42:57 2020 +0300\r\n",
      "\r\n",
      "    Adding a new line to the third file\r\n"
     ]
    }
   ],
   "source": [
    "!cd ./new_project/ && git log -n1"
   ]
  },
  {
   "cell_type": "markdown",
   "metadata": {},
   "source": [
    "## Viewing a particulat commit"
   ]
  },
  {
   "cell_type": "code",
   "execution_count": 170,
   "metadata": {},
   "outputs": [
    {
     "name": "stdout",
     "output_type": "stream",
     "text": [
      "\u001b[33mcommit 8d044bd25bf6f05504d1a0ba044e0969a91a0858\u001b[m\u001b[33m (\u001b[m\u001b[1;36mHEAD -> \u001b[m\u001b[1;32mmaster\u001b[m\u001b[33m)\u001b[m\r\n",
      "Author: Dmitry Brook <dmitrii_bryuhanov@mail.ru>\r\n",
      "Date:   Mon Oct 19 10:42:57 2020 +0300\r\n",
      "\r\n",
      "    Adding a new line to the third file\r\n",
      "\r\n",
      "\u001b[1mdiff --git a/new_folder/third_file.txt b/new_folder/third_file.txt\u001b[m\r\n",
      "\u001b[1mindex 8fea720..01cf2cf 100644\u001b[m\r\n",
      "\u001b[1m--- a/new_folder/third_file.txt\u001b[m\r\n",
      "\u001b[1m+++ b/new_folder/third_file.txt\u001b[m\r\n",
      "\u001b[36m@@ -1 +1 @@\u001b[m\r\n",
      "\u001b[31m-I wonder what is in the third file now?\u001b[m\r\n",
      "\u001b[32m+\u001b[m\u001b[32mNew line in the third file\u001b[m\r\n"
     ]
    }
   ],
   "source": [
    "!cd ./new_project/ && git show 8d044b"
   ]
  },
  {
   "cell_type": "markdown",
   "metadata": {},
   "source": [
    "## Viewing the inline changes (--color-words)"
   ]
  },
  {
   "cell_type": "code",
   "execution_count": 171,
   "metadata": {},
   "outputs": [],
   "source": [
    "!cd ./new_project/ && echo \"New line in a third file\" > new_folder/third_file.txt"
   ]
  },
  {
   "cell_type": "code",
   "execution_count": 172,
   "metadata": {},
   "outputs": [
    {
     "name": "stdout",
     "output_type": "stream",
     "text": [
      "[master 47240d1] Ammending a string in the third file\r\n",
      " 1 file changed, 1 insertion(+), 1 deletion(-)\r\n"
     ]
    }
   ],
   "source": [
    "!cd ./new_project/ && git commit -am \"Ammending a string in the third file\""
   ]
  },
  {
   "cell_type": "code",
   "execution_count": 173,
   "metadata": {},
   "outputs": [
    {
     "name": "stdout",
     "output_type": "stream",
     "text": [
      "\u001b[33mcommit 47240d1e4ef00e090ae8cb752c4175c0c8d587ed\u001b[m\u001b[33m (\u001b[m\u001b[1;36mHEAD -> \u001b[m\u001b[1;32mmaster\u001b[m\u001b[33m)\u001b[m\r\n",
      "Author: Dmitry Brook <dmitrii_bryuhanov@mail.ru>\r\n",
      "Date:   Mon Oct 19 10:54:14 2020 +0300\r\n",
      "\r\n",
      "    Ammending a string in the third file\r\n"
     ]
    }
   ],
   "source": [
    "!cd ./new_project/ && git log -n1"
   ]
  },
  {
   "cell_type": "code",
   "execution_count": 174,
   "metadata": {},
   "outputs": [
    {
     "name": "stdout",
     "output_type": "stream",
     "text": [
      "\u001b[33mcommit 47240d1e4ef00e090ae8cb752c4175c0c8d587ed\u001b[m\u001b[33m (\u001b[m\u001b[1;36mHEAD -> \u001b[m\u001b[1;32mmaster\u001b[m\u001b[33m)\u001b[m\r\n",
      "Author: Dmitry Brook <dmitrii_bryuhanov@mail.ru>\r\n",
      "Date:   Mon Oct 19 10:54:14 2020 +0300\r\n",
      "\r\n",
      "    Ammending a string in the third file\r\n",
      "\r\n",
      "\u001b[1mdiff --git a/new_folder/third_file.txt b/new_folder/third_file.txt\u001b[m\r\n",
      "\u001b[1mindex 01cf2cf..dc69f0c 100644\u001b[m\r\n",
      "\u001b[1m--- a/new_folder/third_file.txt\u001b[m\r\n",
      "\u001b[1m+++ b/new_folder/third_file.txt\u001b[m\r\n",
      "\u001b[36m@@ -1 +1 @@\u001b[m\r\n",
      "New line in \u001b[31mthe\u001b[m\u001b[32ma\u001b[m third file\r\n"
     ]
    }
   ],
   "source": [
    "!cd ./new_project/ && git show 47240d1e --color-words"
   ]
  },
  {
   "cell_type": "markdown",
   "metadata": {},
   "source": [
    "## Comparing 2 commits"
   ]
  },
  {
   "cell_type": "code",
   "execution_count": 175,
   "metadata": {},
   "outputs": [
    {
     "name": "stdout",
     "output_type": "stream",
     "text": [
      "\u001b[33mcommit 47240d1e4ef00e090ae8cb752c4175c0c8d587ed\u001b[m\u001b[33m (\u001b[m\u001b[1;36mHEAD -> \u001b[m\u001b[1;32mmaster\u001b[m\u001b[33m)\u001b[m\r\n",
      "Author: Dmitry Brook <dmitrii_bryuhanov@mail.ru>\r\n",
      "Date:   Mon Oct 19 10:54:14 2020 +0300\r\n",
      "\r\n",
      "    Ammending a string in the third file\r\n",
      "\r\n",
      "\u001b[33mcommit 8d044bd25bf6f05504d1a0ba044e0969a91a0858\u001b[m\r\n",
      "Author: Dmitry Brook <dmitrii_bryuhanov@mail.ru>\r\n",
      "Date:   Mon Oct 19 10:42:57 2020 +0300\r\n",
      "\r\n",
      "    Adding a new line to the third file\r\n",
      "\r\n",
      "\u001b[33mcommit 9f7fbf4ef91127e50e64534da4627e7a3f292f84\u001b[m\r\n",
      "Author: Dmitry Brook <dmitrii_bryuhanov@mail.ru>\r\n",
      "Date:   Mon Oct 19 10:41:14 2020 +0300\r\n",
      "\r\n",
      "    Adding the third_file to the new_folder\r\n",
      "\r\n",
      "\u001b[33mcommit cfce25a985276e0b1b46b9c7a5eb18a4e291f494\u001b[m\r\n",
      "Author: Dmitry Brook <dmitrii_bryuhanov@mail.ru>\r\n",
      "Date:   Mon Oct 19 10:38:04 2020 +0300\r\n",
      "\r\n",
      "    Adding the third_file to the new_folder\r\n",
      "\r\n",
      "\u001b[33mcommit da72b304730e21ea8a006c193148870ade941594\u001b[m\r\n",
      "Author: Dmitry Brook <dmitrii_bryuhanov@mail.ru>\r\n",
      "Date:   Mon Oct 19 10:15:03 2020 +0300\r\n",
      "\r\n",
      "    Reorganazing file\r\n",
      "\r\n",
      "\u001b[33mcommit 52ea0c673341baccd30b4e7f9cf12164d5944ff3\u001b[m\r\n",
      "Author: Dmitry Brook <dmitrii_bryuhanov@mail.ru>\r\n",
      "Date:   Mon Oct 19 10:11:34 2020 +0300\r\n",
      "\r\n",
      "    Miving the first_file to the new_folder\r\n",
      "\r\n",
      "\u001b[33mcommit 9db3f3275cc89b0a9dcef253d5d7290ede088eab\u001b[m\r\n",
      "Author: Dmitry Brook <dmitrii_bryuhanov@mail.ru>\r\n",
      "Date:   Mon Oct 19 09:43:27 2020 +0300\r\n",
      "\r\n",
      "    Removing the file ment for deletion\r\n",
      "\r\n",
      "\u001b[33mcommit d359401e5a9e23b368d37a9e64549fa2f060c41e\u001b[m\r\n",
      "Author: Dmitry Brook <dmitrii_bryuhanov@mail.ru>\r\n",
      "Date:   Mon Oct 19 09:39:17 2020 +0300\r\n",
      "\r\n",
      "    Adding a file to be deleted\r\n",
      "\r\n",
      "\u001b[33mcommit 70f750d0eb92ae1e519ebbe168f81219dcd0b3e0\u001b[m\r\n",
      "Author: Dmitry Brook <dmitrii_bryuhanov@mail.ru>\r\n",
      "Date:   Mon Oct 19 09:34:11 2020 +0300\r\n",
      "\r\n",
      "    Adding changes for the testing purposes\r\n",
      "\r\n",
      "\u001b[33mcommit 60e2cb4d4c8c131b25281365dd8b0c37033f93a3\u001b[m\r\n",
      "Author: Dmitry Brook <dmitrii_bryuhanov@mail.ru>\r\n",
      "Date:   Mon Oct 19 00:06:32 2020 +0300\r\n",
      "\r\n",
      "    Edit second & third files\r\n",
      "\r\n",
      "\u001b[33mcommit d5495ca08fcc851f9487da9f460201181d693c4a\u001b[m\r\n",
      "Author: Dmitry Brook <dmitrii_bryuhanov@mail.ru>\r\n",
      "Date:   Sun Oct 18 23:43:27 2020 +0300\r\n",
      "\r\n",
      "    add third file to the project\r\n",
      "\r\n",
      "\u001b[33mcommit 35c1c0117ea15e965e204864539374fa63874cd7\u001b[m\r\n",
      "Author: Dmitry Brook <dmitrii_bryuhanov@mail.ru>\r\n",
      "Date:   Sun Oct 18 23:40:47 2020 +0300\r\n",
      "\r\n",
      "    add second file to the project\r\n",
      "\r\n",
      "\u001b[33mcommit 7301ad3b52dea435d187d74e9f7f5bbefe500fe2\u001b[m\r\n",
      "Author: Dmitry Brook <dmitrii_bryuhanov@mail.ru>\r\n",
      "Date:   Sun Oct 18 17:38:41 2020 +0300\r\n",
      "\r\n",
      "    first commit\r\n"
     ]
    }
   ],
   "source": [
    "!cd ./new_project/ && git log"
   ]
  },
  {
   "cell_type": "code",
   "execution_count": 176,
   "metadata": {},
   "outputs": [
    {
     "name": "stdout",
     "output_type": "stream",
     "text": [
      "\u001b[1mdiff --git a/new_folder/third_file.txt b/new_folder/third_file.txt\u001b[m\r\n",
      "\u001b[1mindex 8fea720..dc69f0c 100644\u001b[m\r\n",
      "\u001b[1m--- a/new_folder/third_file.txt\u001b[m\r\n",
      "\u001b[1m+++ b/new_folder/third_file.txt\u001b[m\r\n",
      "\u001b[36m@@ -1 +1 @@\u001b[m\r\n",
      "\u001b[31m-I wonder what is in the third file now?\u001b[m\r\n",
      "\u001b[32m+\u001b[m\u001b[32mNew line in a third file\u001b[m\r\n"
     ]
    }
   ],
   "source": [
    "!cd ./new_project/ && git diff 9f7fbf4e..47240d1e"
   ]
  },
  {
   "cell_type": "code",
   "execution_count": 177,
   "metadata": {},
   "outputs": [
    {
     "name": "stdout",
     "output_type": "stream",
     "text": [
      "\u001b[1mdiff --git a/new_folder/third_file.txt b/new_folder/third_file.txt\u001b[m\r\n",
      "\u001b[1mindex 8fea720..dc69f0c 100644\u001b[m\r\n",
      "\u001b[1m--- a/new_folder/third_file.txt\u001b[m\r\n",
      "\u001b[1m+++ b/new_folder/third_file.txt\u001b[m\r\n",
      "\u001b[36m@@ -1 +1 @@\u001b[m\r\n",
      "\u001b[31mI wonder what is\u001b[m\u001b[32mNew line\u001b[m in \u001b[31mthe\u001b[m\u001b[32ma\u001b[m third file\u001b[31mnow?\u001b[m\r\n"
     ]
    }
   ],
   "source": [
    "!cd ./new_project/ && git diff 9f7fbf4e..47240d1e --color-words"
   ]
  },
  {
   "cell_type": "code",
   "execution_count": 178,
   "metadata": {},
   "outputs": [
    {
     "name": "stdout",
     "output_type": "stream",
     "text": [
      "\u001b[1mdiff --git a/new_folder/third_file.txt b/new_folder/third_file.txt\u001b[m\r\n",
      "\u001b[1mindex 8fea720..dc69f0c 100644\u001b[m\r\n",
      "\u001b[1m--- a/new_folder/third_file.txt\u001b[m\r\n",
      "\u001b[1m+++ b/new_folder/third_file.txt\u001b[m\r\n",
      "\u001b[36m@@ -1 +1 @@\u001b[m\r\n",
      "\u001b[31m-I wonder what is in the third file now?\u001b[m\r\n",
      "\u001b[32m+\u001b[m\u001b[32mNew line in a third file\u001b[m\r\n"
     ]
    }
   ],
   "source": [
    "!cd ./new_project/ && git diff 9f7fbf4e..HEAD"
   ]
  },
  {
   "cell_type": "code",
   "execution_count": 179,
   "metadata": {},
   "outputs": [
    {
     "name": "stdout",
     "output_type": "stream",
     "text": [
      "\u001b[33m47240d1\u001b[m\u001b[33m (\u001b[m\u001b[1;36mHEAD -> \u001b[m\u001b[1;32mmaster\u001b[m\u001b[33m)\u001b[m Ammending a string in the third file\r\n",
      "\u001b[33m8d044bd\u001b[m Adding a new line to the third file\r\n",
      "\u001b[33m9f7fbf4\u001b[m Adding the third_file to the new_folder\r\n",
      "\u001b[33mcfce25a\u001b[m Adding the third_file to the new_folder\r\n",
      "\u001b[33mda72b30\u001b[m Reorganazing file\r\n",
      "\u001b[33m52ea0c6\u001b[m Miving the first_file to the new_folder\r\n",
      "\u001b[33m9db3f32\u001b[m Removing the file ment for deletion\r\n",
      "\u001b[33md359401\u001b[m Adding a file to be deleted\r\n",
      "\u001b[33m70f750d\u001b[m Adding changes for the testing purposes\r\n",
      "\u001b[33m60e2cb4\u001b[m Edit second & third files\r\n",
      "\u001b[33md5495ca\u001b[m add third file to the project\r\n",
      "\u001b[33m35c1c01\u001b[m add second file to the project\r\n",
      "\u001b[33m7301ad3\u001b[m first commit\r\n"
     ]
    }
   ],
   "source": [
    "!cd ./new_project/ && git log --oneline"
   ]
  },
  {
   "cell_type": "code",
   "execution_count": 180,
   "metadata": {},
   "outputs": [],
   "source": [
    "!cd ./new_project/ && echo \"Second line in the third file\" >> new_folder/third_file.txt"
   ]
  },
  {
   "cell_type": "code",
   "execution_count": 181,
   "metadata": {},
   "outputs": [
    {
     "name": "stdout",
     "output_type": "stream",
     "text": [
      "hint: Waiting for your editor to close the file... \u001b7\u001b[?47h\u001b[>4;2m\u001b[?1h\u001b=\u001b[?2004h\u001b[1;24r\u001b[?12h\u001b[?12l\u001b[22;2t\u001b[22;1t\u001b[29m\u001b[m\u001b[H\u001b[2J\u001b[?25l\u001b[24;1H\"~/Documents/Full Stack/Git/new_project/.git/COMMIT_EDITMSG\" 8L, 226C\u001b[2;1H▽\u001b[6n\u001b[2;1H  \u001b[1;1H\u001b[>c\u001b]10;?\u0007\u001b]11;?\u0007\u001b[24;1H\u001b[2;1H# Please enter the commit message for your changes. Lines starting\n",
      "# with '#' will be ignored, and an empty message aborts the commit.\n",
      "#\n",
      "# On branch master\n",
      "# Changes to be committed:\n",
      "#\u001b[7Cmodified:   new_folder/third_file.txt\n",
      "#\n",
      "\u001b[1m\u001b[34m~                                                                               \u001b[10;1H~                                                                               \u001b[11;1H~                                                                               \u001b[12;1H~                                                                               \u001b[13;1H~                                                                               \u001b[14;1H~                                                                               \u001b[15;1H~                                                                               \u001b[16;1H~                                                                               \u001b[17;1H~                                                                               \u001b[18;1H~                                                                               \u001b[19;1H~                                                                               \u001b[20;1H~                                                                               \u001b[21;1H~                                                                               \u001b[22;1H~                                                                               \u001b[23;1H~                                                                               \u001b[1;1H\u001b[?25h\u001b[?25l\u001b[m\u001b[24;1HType  :qa  and press <Enter> to exit Vim\u001b[24;41H\u001b[K\u0007\u001b[1;1H\u001b[?25h"
     ]
    }
   ],
   "source": [
    "!cd ./new_project/ && git commit -a"
   ]
  },
  {
   "cell_type": "code",
   "execution_count": 182,
   "metadata": {},
   "outputs": [
    {
     "name": "stdout",
     "output_type": "stream",
     "text": [
      "\u001b[33mcommit 7bf117dc9685f5256d0fa14983e94c7ed2b417ef\u001b[m\u001b[33m (\u001b[m\u001b[1;36mHEAD -> \u001b[m\u001b[1;32mmaster\u001b[m\u001b[33m)\u001b[m\r\n",
      "Author: Dmitry Brook <dmitrii_bryuhanov@mail.ru>\r\n",
      "Date:   Mon Oct 19 11:33:39 2020 +0300\r\n",
      "\r\n",
      "    Adding the second line to the third file\r\n",
      "    \r\n",
      "    To see how multiline messages work.\r\n"
     ]
    }
   ],
   "source": [
    "!cd ./new_project/ && git log -n1"
   ]
  },
  {
   "cell_type": "markdown",
   "metadata": {},
   "source": [
    "## Undoing Changes"
   ]
  },
  {
   "cell_type": "code",
   "execution_count": 183,
   "metadata": {},
   "outputs": [],
   "source": [
    "!cd ./new_project/ && echo \"\" > new_folder/third_file.txt"
   ]
  },
  {
   "cell_type": "code",
   "execution_count": 184,
   "metadata": {},
   "outputs": [
    {
     "name": "stdout",
     "output_type": "stream",
     "text": [
      "On branch master\r\n",
      "Changes not staged for commit:\r\n",
      "  (use \"git add <file>...\" to update what will be committed)\r\n",
      "  (use \"git restore <file>...\" to discard changes in working directory)\r\n",
      "\t\u001b[31mmodified:   new_folder/third_file.txt\u001b[m\r\n",
      "\r\n",
      "no changes added to commit (use \"git add\" and/or \"git commit -a\")\r\n"
     ]
    }
   ],
   "source": [
    "!cd ./new_project/ && git status"
   ]
  },
  {
   "cell_type": "code",
   "execution_count": 185,
   "metadata": {},
   "outputs": [
    {
     "name": "stdout",
     "output_type": "stream",
     "text": [
      "\r\n"
     ]
    }
   ],
   "source": [
    "!cd ./new_project/ && cat new_folder/third_file.txt"
   ]
  },
  {
   "cell_type": "code",
   "execution_count": 186,
   "metadata": {},
   "outputs": [],
   "source": [
    "!cd ./new_project/ && git checkout -- new_folder/third_file.txt"
   ]
  },
  {
   "cell_type": "code",
   "execution_count": 187,
   "metadata": {},
   "outputs": [
    {
     "name": "stdout",
     "output_type": "stream",
     "text": [
      "New line in a third file\r\n",
      "Second line in the third file\r\n"
     ]
    }
   ],
   "source": [
    "!cd ./new_project/ && cat new_folder/third_file.txt"
   ]
  },
  {
   "cell_type": "code",
   "execution_count": 188,
   "metadata": {},
   "outputs": [
    {
     "name": "stdout",
     "output_type": "stream",
     "text": [
      "On branch master\r\n",
      "nothing to commit, working tree clean\r\n"
     ]
    }
   ],
   "source": [
    "!cd ./new_project/ && git status"
   ]
  },
  {
   "cell_type": "markdown",
   "metadata": {},
   "source": [
    "## Unstaging changes"
   ]
  },
  {
   "cell_type": "code",
   "execution_count": 189,
   "metadata": {},
   "outputs": [],
   "source": [
    "!cd ./new_project/ && echo \"Another error I made...\" > new_folder/third_file.txt"
   ]
  },
  {
   "cell_type": "markdown",
   "metadata": {},
   "source": [
    "### Staging changes"
   ]
  },
  {
   "cell_type": "code",
   "execution_count": 190,
   "metadata": {},
   "outputs": [],
   "source": [
    "!cd ./new_project/ && git add ."
   ]
  },
  {
   "cell_type": "code",
   "execution_count": 191,
   "metadata": {},
   "outputs": [
    {
     "name": "stdout",
     "output_type": "stream",
     "text": [
      "On branch master\r\n",
      "Changes to be committed:\r\n",
      "  (use \"git restore --staged <file>...\" to unstage)\r\n",
      "\t\u001b[32mmodified:   new_folder/third_file.txt\u001b[m\r\n",
      "\r\n"
     ]
    }
   ],
   "source": [
    "!cd ./new_project/ && git status"
   ]
  },
  {
   "cell_type": "code",
   "execution_count": 192,
   "metadata": {},
   "outputs": [
    {
     "name": "stdout",
     "output_type": "stream",
     "text": [
      "Another error I made...\r\n"
     ]
    }
   ],
   "source": [
    "!cd ./new_project/ && cat new_folder/third_file.txt"
   ]
  },
  {
   "cell_type": "code",
   "execution_count": 193,
   "metadata": {},
   "outputs": [
    {
     "name": "stdout",
     "output_type": "stream",
     "text": [
      "Unstaged changes after reset:\r\n",
      "M\tnew_folder/third_file.txt\r\n"
     ]
    }
   ],
   "source": [
    "!cd ./new_project/ && git reset HEAD new_folder/third_file.txt"
   ]
  },
  {
   "cell_type": "markdown",
   "metadata": {},
   "source": [
    "### Changes unstaged"
   ]
  },
  {
   "cell_type": "code",
   "execution_count": 196,
   "metadata": {},
   "outputs": [
    {
     "name": "stdout",
     "output_type": "stream",
     "text": [
      "On branch master\r\n",
      "Changes not staged for commit:\r\n",
      "  (use \"git add <file>...\" to update what will be committed)\r\n",
      "  (use \"git restore <file>...\" to discard changes in working directory)\r\n",
      "\t\u001b[31mmodified:   new_folder/third_file.txt\u001b[m\r\n",
      "\r\n",
      "no changes added to commit (use \"git add\" and/or \"git commit -a\")\r\n"
     ]
    }
   ],
   "source": [
    "!cd ./new_project/ && git status"
   ]
  },
  {
   "cell_type": "code",
   "execution_count": 197,
   "metadata": {},
   "outputs": [],
   "source": [
    "!cd ./new_project/ && git checkout -- ."
   ]
  },
  {
   "cell_type": "code",
   "execution_count": 198,
   "metadata": {},
   "outputs": [
    {
     "name": "stdout",
     "output_type": "stream",
     "text": [
      "On branch master\r\n",
      "nothing to commit, working tree clean\r\n"
     ]
    }
   ],
   "source": [
    "!cd ./new_project/ && git status"
   ]
  },
  {
   "cell_type": "code",
   "execution_count": 199,
   "metadata": {},
   "outputs": [
    {
     "name": "stdout",
     "output_type": "stream",
     "text": [
      "New line in a third file\r\n",
      "Second line in the third file\r\n"
     ]
    }
   ],
   "source": [
    "!cd ./new_project/ && cat new_folder/third_file.txt"
   ]
  },
  {
   "cell_type": "markdown",
   "metadata": {},
   "source": [
    "## Amending commits\n",
    "\n",
    "- git only allows ammending the most recent files"
   ]
  },
  {
   "cell_type": "code",
   "execution_count": 200,
   "metadata": {},
   "outputs": [],
   "source": [
    "!cd ./new_project/ && echo \"Some line that should not be there\" >> new_folder/third_file.txt"
   ]
  },
  {
   "cell_type": "code",
   "execution_count": 207,
   "metadata": {},
   "outputs": [
    {
     "name": "stdout",
     "output_type": "stream",
     "text": [
      "New line in a third file\r\n",
      "Second line in the third file\r\n",
      "Some line that should not be there\r\n",
      "Another line that should not be there\r\n"
     ]
    }
   ],
   "source": [
    "!cd ./new_project/ && cat new_folder/third_file.txt"
   ]
  },
  {
   "cell_type": "code",
   "execution_count": 208,
   "metadata": {},
   "outputs": [
    {
     "name": "stdout",
     "output_type": "stream",
     "text": [
      "On branch master\r\n",
      "Changes not staged for commit:\r\n",
      "  (use \"git add <file>...\" to update what will be committed)\r\n",
      "  (use \"git restore <file>...\" to discard changes in working directory)\r\n",
      "\t\u001b[31mmodified:   new_folder/third_file.txt\u001b[m\r\n",
      "\r\n",
      "no changes added to commit (use \"git add\" and/or \"git commit -a\")\r\n"
     ]
    }
   ],
   "source": [
    "!cd ./new_project/ && git status"
   ]
  },
  {
   "cell_type": "code",
   "execution_count": 209,
   "metadata": {},
   "outputs": [],
   "source": [
    "!cd ./new_project/ && git add ."
   ]
  },
  {
   "cell_type": "code",
   "execution_count": 210,
   "metadata": {},
   "outputs": [
    {
     "name": "stdout",
     "output_type": "stream",
     "text": [
      "[master ae4d9a5] amending the previous change\r\n",
      " Date: Mon Oct 19 14:13:11 2020 +0300\r\n",
      " 1 file changed, 2 insertions(+)\r\n"
     ]
    }
   ],
   "source": [
    "!cd ./new_project/ && git commit --amend -m \"amending the previous change\""
   ]
  },
  {
   "cell_type": "code",
   "execution_count": 212,
   "metadata": {},
   "outputs": [],
   "source": [
    "!cd ./new_project/ && echo \"\" > new_folder/third_file.txt"
   ]
  },
  {
   "cell_type": "code",
   "execution_count": 213,
   "metadata": {},
   "outputs": [
    {
     "name": "stdout",
     "output_type": "stream",
     "text": [
      "\u001b[1mdiff --git a/new_folder/third_file.txt b/new_folder/third_file.txt\u001b[m\r\n",
      "\u001b[1mindex f016d3c..8b13789 100644\u001b[m\r\n",
      "\u001b[1m--- a/new_folder/third_file.txt\u001b[m\r\n",
      "\u001b[1m+++ b/new_folder/third_file.txt\u001b[m\r\n",
      "\u001b[36m@@ -1,4 +1 @@\u001b[m\r\n",
      "\u001b[31m-New line in a third file\u001b[m\r\n",
      "\u001b[31m-Second line in the third file\u001b[m\r\n",
      "\u001b[31m-Some line that should not be there\u001b[m\r\n",
      "\u001b[31m-Another line that should not be there\u001b[m\r\n",
      "\u001b[32m+\u001b[m\r\n"
     ]
    }
   ],
   "source": [
    "!cd ./new_project/ && git diff"
   ]
  },
  {
   "cell_type": "code",
   "execution_count": 214,
   "metadata": {},
   "outputs": [
    {
     "name": "stdout",
     "output_type": "stream",
     "text": [
      "On branch master\r\n",
      "Changes not staged for commit:\r\n",
      "  (use \"git add <file>...\" to update what will be committed)\r\n",
      "  (use \"git restore <file>...\" to discard changes in working directory)\r\n",
      "\t\u001b[31mmodified:   new_folder/third_file.txt\u001b[m\r\n",
      "\r\n",
      "no changes added to commit (use \"git add\" and/or \"git commit -a\")\r\n"
     ]
    }
   ],
   "source": [
    "!cd ./new_project/ && git status"
   ]
  },
  {
   "cell_type": "code",
   "execution_count": 215,
   "metadata": {},
   "outputs": [
    {
     "name": "stdout",
     "output_type": "stream",
     "text": [
      "\r\n"
     ]
    }
   ],
   "source": [
    "!cd ./new_project/ && cat new_folder/third_file.txt"
   ]
  },
  {
   "cell_type": "code",
   "execution_count": 216,
   "metadata": {},
   "outputs": [],
   "source": [
    "!cd ./new_project/ && git checkout -- ."
   ]
  },
  {
   "cell_type": "code",
   "execution_count": 217,
   "metadata": {},
   "outputs": [
    {
     "name": "stdout",
     "output_type": "stream",
     "text": [
      "New line in a third file\r\n",
      "Second line in the third file\r\n",
      "Some line that should not be there\r\n",
      "Another line that should not be there\r\n"
     ]
    }
   ],
   "source": [
    "!cd ./new_project/ && cat new_folder/third_file.txt"
   ]
  },
  {
   "cell_type": "markdown",
   "metadata": {},
   "source": [
    "## Retrieve old versions"
   ]
  },
  {
   "cell_type": "code",
   "execution_count": 218,
   "metadata": {},
   "outputs": [
    {
     "name": "stdout",
     "output_type": "stream",
     "text": [
      "\u001b[33mae4d9a5\u001b[m\u001b[33m (\u001b[m\u001b[1;36mHEAD -> \u001b[m\u001b[1;32mmaster\u001b[m\u001b[33m)\u001b[m amending the previous change\r\n",
      "\u001b[33m7bf117d\u001b[m Adding the second line to the third file\r\n",
      "\u001b[33m47240d1\u001b[m Ammending a string in the third file\r\n",
      "\u001b[33m8d044bd\u001b[m Adding a new line to the third file\r\n",
      "\u001b[33m9f7fbf4\u001b[m Adding the third_file to the new_folder\r\n",
      "\u001b[33mcfce25a\u001b[m Adding the third_file to the new_folder\r\n",
      "\u001b[33mda72b30\u001b[m Reorganazing file\r\n",
      "\u001b[33m52ea0c6\u001b[m Miving the first_file to the new_folder\r\n",
      "\u001b[33m9db3f32\u001b[m Removing the file ment for deletion\r\n",
      "\u001b[33md359401\u001b[m Adding a file to be deleted\r\n",
      "\u001b[33m70f750d\u001b[m Adding changes for the testing purposes\r\n",
      "\u001b[33m60e2cb4\u001b[m Edit second & third files\r\n",
      "\u001b[33md5495ca\u001b[m add third file to the project\r\n",
      "\u001b[33m35c1c01\u001b[m add second file to the project\r\n",
      "\u001b[33m7301ad3\u001b[m first commit\r\n"
     ]
    }
   ],
   "source": [
    "!cd ./new_project/ && git log --oneline"
   ]
  },
  {
   "cell_type": "code",
   "execution_count": 219,
   "metadata": {},
   "outputs": [],
   "source": [
    "!cd ./new_project/ && git log "
   ]
  },
  {
   "cell_type": "code",
   "execution_count": 220,
   "metadata": {},
   "outputs": [
    {
     "name": "stdout",
     "output_type": "stream",
     "text": [
      "\u001b[33mcommit 8d044bd25bf6f05504d1a0ba044e0969a91a0858\u001b[m\r\n",
      "Author: Dmitry Brook <dmitrii_bryuhanov@mail.ru>\r\n",
      "Date:   Mon Oct 19 10:42:57 2020 +0300\r\n",
      "\r\n",
      "    Adding a new line to the third file\r\n",
      "\r\n",
      "\u001b[1mdiff --git a/new_folder/third_file.txt b/new_folder/third_file.txt\u001b[m\r\n",
      "\u001b[1mindex 8fea720..01cf2cf 100644\u001b[m\r\n",
      "\u001b[1m--- a/new_folder/third_file.txt\u001b[m\r\n",
      "\u001b[1m+++ b/new_folder/third_file.txt\u001b[m\r\n",
      "\u001b[36m@@ -1 +1 @@\u001b[m\r\n",
      "\u001b[31m-I wonder what is in the third file now?\u001b[m\r\n",
      "\u001b[32m+\u001b[m\u001b[32mNew line in the third file\u001b[m\r\n"
     ]
    }
   ],
   "source": [
    "!cd ./new_project/ && git show 8d044bd"
   ]
  },
  {
   "cell_type": "code",
   "execution_count": 221,
   "metadata": {},
   "outputs": [],
   "source": [
    "!cd ./new_project/ && git checkout 8d044bd -- ."
   ]
  },
  {
   "cell_type": "code",
   "execution_count": 222,
   "metadata": {},
   "outputs": [
    {
     "name": "stdout",
     "output_type": "stream",
     "text": [
      "On branch master\r\n",
      "Changes to be committed:\r\n",
      "  (use \"git restore --staged <file>...\" to unstage)\r\n",
      "\t\u001b[32mmodified:   new_folder/third_file.txt\u001b[m\r\n",
      "\r\n"
     ]
    }
   ],
   "source": [
    "!cd ./new_project/ && git status"
   ]
  },
  {
   "cell_type": "code",
   "execution_count": 223,
   "metadata": {},
   "outputs": [
    {
     "name": "stdout",
     "output_type": "stream",
     "text": [
      "\u001b[1mdiff --git a/new_folder/third_file.txt b/new_folder/third_file.txt\u001b[m\r\n",
      "\u001b[1mindex f016d3c..01cf2cf 100644\u001b[m\r\n",
      "\u001b[1m--- a/new_folder/third_file.txt\u001b[m\r\n",
      "\u001b[1m+++ b/new_folder/third_file.txt\u001b[m\r\n",
      "\u001b[36m@@ -1,4 +1 @@\u001b[m\r\n",
      "\u001b[31m-New line in a third file\u001b[m\r\n",
      "\u001b[31m-Second line in the third file\u001b[m\r\n",
      "\u001b[31m-Some line that should not be there\u001b[m\r\n",
      "\u001b[31m-Another line that should not be there\u001b[m\r\n",
      "\u001b[32m+\u001b[m\u001b[32mNew line in the third file\u001b[m\r\n"
     ]
    }
   ],
   "source": [
    "!cd ./new_project/ && git diff --staged"
   ]
  },
  {
   "cell_type": "code",
   "execution_count": 226,
   "metadata": {},
   "outputs": [
    {
     "name": "stdout",
     "output_type": "stream",
     "text": [
      "[master 006de6d] applying change\r\n",
      " 1 file changed, 1 insertion(+), 4 deletions(-)\r\n"
     ]
    }
   ],
   "source": [
    "!cd ./new_project/ && git commit -am \"applying change\""
   ]
  },
  {
   "cell_type": "code",
   "execution_count": 231,
   "metadata": {},
   "outputs": [
    {
     "name": "stdout",
     "output_type": "stream",
     "text": [
      "On branch master\r\n",
      "nothing to commit, working tree clean\r\n"
     ]
    }
   ],
   "source": [
    "!cd ./new_project/ && git status"
   ]
  },
  {
   "cell_type": "code",
   "execution_count": 230,
   "metadata": {},
   "outputs": [
    {
     "name": "stdout",
     "output_type": "stream",
     "text": [
      "[master 9d0a672] applying change 2\r\n",
      " 1 file changed, 1 insertion(+), 1 deletion(-)\r\n"
     ]
    }
   ],
   "source": [
    "!cd ./new_project/ && git commit -m \"applying change 2\""
   ]
  },
  {
   "cell_type": "markdown",
   "metadata": {},
   "source": [
    "## Revert a commit"
   ]
  },
  {
   "cell_type": "code",
   "execution_count": 227,
   "metadata": {},
   "outputs": [
    {
     "name": "stdout",
     "output_type": "stream",
     "text": [
      "\u001b[33m006de6d\u001b[m\u001b[33m (\u001b[m\u001b[1;36mHEAD -> \u001b[m\u001b[1;32mmaster\u001b[m\u001b[33m)\u001b[m applying change\r\n",
      "\u001b[33mae4d9a5\u001b[m amending the previous change\r\n",
      "\u001b[33m7bf117d\u001b[m Adding the second line to the third file\r\n",
      "\u001b[33m47240d1\u001b[m Ammending a string in the third file\r\n",
      "\u001b[33m8d044bd\u001b[m Adding a new line to the third file\r\n",
      "\u001b[33m9f7fbf4\u001b[m Adding the third_file to the new_folder\r\n",
      "\u001b[33mcfce25a\u001b[m Adding the third_file to the new_folder\r\n",
      "\u001b[33mda72b30\u001b[m Reorganazing file\r\n",
      "\u001b[33m52ea0c6\u001b[m Miving the first_file to the new_folder\r\n",
      "\u001b[33m9db3f32\u001b[m Removing the file ment for deletion\r\n",
      "\u001b[33md359401\u001b[m Adding a file to be deleted\r\n",
      "\u001b[33m70f750d\u001b[m Adding changes for the testing purposes\r\n",
      "\u001b[33m60e2cb4\u001b[m Edit second & third files\r\n",
      "\u001b[33md5495ca\u001b[m add third file to the project\r\n",
      "\u001b[33m35c1c01\u001b[m add second file to the project\r\n",
      "\u001b[33m7301ad3\u001b[m first commit\r\n"
     ]
    }
   ],
   "source": [
    "!cd ./new_project/ && git log --oneline"
   ]
  },
  {
   "cell_type": "code",
   "execution_count": 228,
   "metadata": {},
   "outputs": [
    {
     "name": "stdout",
     "output_type": "stream",
     "text": [
      "hint: Waiting for your editor to close the file... \u001b7\u001b[?47h\u001b[>4;2m\u001b[?1h\u001b=\u001b[?2004h\u001b[1;24r\u001b[?12h\u001b[?12l\u001b[22;2t\u001b[22;1t\u001b[29m\u001b[m\u001b[H\u001b[2J\u001b[?25l\u001b[24;1H\"~/Documents/Full Stack/Git/new_project/.git/COMMIT_EDITMSG\" 11L, 334C\u001b[2;1H▽\u001b[6n\u001b[2;1H  \u001b[1;1H\u001b[>c\u001b]10;?\u0007\u001b]11;?\u0007\u001b[24;1H\u001b[1;1HRevert \"Adding a new line to the third file\"\n",
      "\n",
      "This reverts commit 8d044bd25bf6f05504d1a0ba044e0969a91a0858.\n",
      "\n",
      "# Please enter the commit message for your changes. Lines starting\n",
      "# with '#' will be ignored, and an empty message aborts the commit.\n",
      "#\n",
      "# On branch master\n",
      "# Changes to be committed:\n",
      "#\u001b[7Cmodified:   new_folder/third_file.txt\n",
      "#\n",
      "\u001b[1m\u001b[34m~                                                                               \u001b[13;1H~                                                                               \u001b[14;1H~                                                                               \u001b[15;1H~                                                                               \u001b[16;1H~                                                                               \u001b[17;1H~                                                                               \u001b[18;1H~                                                                               \u001b[19;1H~                                                                               \u001b[20;1H~                                                                               \u001b[21;1H~                                                                               \u001b[22;1H~                                                                               \u001b[23;1H~                                                                               \u001b[1;1H\u001b[?25h\u001b[?25l\u001b[m\u001b[24;1HType  :qa  and press <Enter> to exit Vim\u001b[24;41H\u001b[K\u0007\u001b[1;1H\u001b[?25h"
     ]
    }
   ],
   "source": [
    "!cd ./new_project/ && git revert 8d044bd"
   ]
  },
  {
   "cell_type": "code",
   "execution_count": 233,
   "metadata": {},
   "outputs": [
    {
     "name": "stdout",
     "output_type": "stream",
     "text": [
      "\u001b[33m9d0a672\u001b[m\u001b[33m (\u001b[m\u001b[1;36mHEAD -> \u001b[m\u001b[1;32mmaster\u001b[m\u001b[33m)\u001b[m applying change 2\r\n",
      "\u001b[33m006de6d\u001b[m applying change\r\n",
      "\u001b[33mae4d9a5\u001b[m amending the previous change\r\n",
      "\u001b[33m7bf117d\u001b[m Adding the second line to the third file\r\n",
      "\u001b[33m47240d1\u001b[m Ammending a string in the third file\r\n",
      "\u001b[33m8d044bd\u001b[m Adding a new line to the third file\r\n",
      "\u001b[33m9f7fbf4\u001b[m Adding the third_file to the new_folder\r\n",
      "\u001b[33mcfce25a\u001b[m Adding the third_file to the new_folder\r\n",
      "\u001b[33mda72b30\u001b[m Reorganazing file\r\n",
      "\u001b[33m52ea0c6\u001b[m Miving the first_file to the new_folder\r\n",
      "\u001b[33m9db3f32\u001b[m Removing the file ment for deletion\r\n",
      "\u001b[33md359401\u001b[m Adding a file to be deleted\r\n",
      "\u001b[33m70f750d\u001b[m Adding changes for the testing purposes\r\n",
      "\u001b[33m60e2cb4\u001b[m Edit second & third files\r\n",
      "\u001b[33md5495ca\u001b[m add third file to the project\r\n",
      "\u001b[33m35c1c01\u001b[m add second file to the project\r\n",
      "\u001b[33m7301ad3\u001b[m first commit\r\n"
     ]
    }
   ],
   "source": [
    "!cd ./new_project/ && git log --oneline"
   ]
  },
  {
   "cell_type": "code",
   "execution_count": 234,
   "metadata": {},
   "outputs": [
    {
     "name": "stdout",
     "output_type": "stream",
     "text": [
      "On branch master\r\n",
      "You are currently reverting commit ae4d9a5.\r\n",
      "  (fix conflicts and run \"git revert --continue\")\r\n",
      "  (use \"git revert --skip\" to skip this patch)\r\n",
      "  (use \"git revert --abort\" to cancel the revert operation)\r\n",
      "\r\n",
      "Unmerged paths:\r\n",
      "  (use \"git restore --staged <file>...\" to unstage)\r\n",
      "  (use \"git add <file>...\" to mark resolution)\r\n",
      "\t\u001b[31mboth modified:   new_folder/third_file.txt\u001b[m\r\n",
      "\r\n",
      "no changes added to commit (use \"git add\" and/or \"git commit -a\")\r\n"
     ]
    }
   ],
   "source": [
    "!cd ./new_project/ && git status"
   ]
  },
  {
   "cell_type": "code",
   "execution_count": 235,
   "metadata": {},
   "outputs": [
    {
     "name": "stdout",
     "output_type": "stream",
     "text": [
      "[master 088e373] Reverting...\r\n",
      " 1 file changed, 5 insertions(+)\r\n"
     ]
    }
   ],
   "source": [
    "!cd ./new_project/ && git commit -am \"Reverting...\""
   ]
  },
  {
   "cell_type": "code",
   "execution_count": 236,
   "metadata": {},
   "outputs": [
    {
     "name": "stdout",
     "output_type": "stream",
     "text": [
      "On branch master\r\n",
      "nothing to commit, working tree clean\r\n"
     ]
    }
   ],
   "source": [
    "!cd ./new_project/ && git status"
   ]
  },
  {
   "cell_type": "code",
   "execution_count": 237,
   "metadata": {},
   "outputs": [
    {
     "name": "stdout",
     "output_type": "stream",
     "text": [
      "\u001b[33m088e373\u001b[m\u001b[33m (\u001b[m\u001b[1;36mHEAD -> \u001b[m\u001b[1;32mmaster\u001b[m\u001b[33m)\u001b[m Reverting...\r\n",
      "\u001b[33m9d0a672\u001b[m applying change 2\r\n",
      "\u001b[33m006de6d\u001b[m applying change\r\n",
      "\u001b[33mae4d9a5\u001b[m amending the previous change\r\n",
      "\u001b[33m7bf117d\u001b[m Adding the second line to the third file\r\n",
      "\u001b[33m47240d1\u001b[m Ammending a string in the third file\r\n",
      "\u001b[33m8d044bd\u001b[m Adding a new line to the third file\r\n",
      "\u001b[33m9f7fbf4\u001b[m Adding the third_file to the new_folder\r\n",
      "\u001b[33mcfce25a\u001b[m Adding the third_file to the new_folder\r\n",
      "\u001b[33mda72b30\u001b[m Reorganazing file\r\n",
      "\u001b[33m52ea0c6\u001b[m Miving the first_file to the new_folder\r\n",
      "\u001b[33m9db3f32\u001b[m Removing the file ment for deletion\r\n",
      "\u001b[33md359401\u001b[m Adding a file to be deleted\r\n",
      "\u001b[33m70f750d\u001b[m Adding changes for the testing purposes\r\n",
      "\u001b[33m60e2cb4\u001b[m Edit second & third files\r\n",
      "\u001b[33md5495ca\u001b[m add third file to the project\r\n",
      "\u001b[33m35c1c01\u001b[m add second file to the project\r\n",
      "\u001b[33m7301ad3\u001b[m first commit\r\n"
     ]
    }
   ],
   "source": [
    "!cd ./new_project/ && git log --oneline"
   ]
  },
  {
   "cell_type": "code",
   "execution_count": 238,
   "metadata": {},
   "outputs": [
    {
     "name": "stdout",
     "output_type": "stream",
     "text": [
      "<<<<<<< HEAD\r\n",
      "I wonder what is in the third file now?\r\n",
      "=======\r\n",
      "New line in a third file\r\n",
      "Second line in the third file\r\n",
      ">>>>>>> parent of ae4d9a5... amending the previous change\r\n"
     ]
    }
   ],
   "source": [
    "!cd ./new_project/ && cat new_folder/third_file.txt"
   ]
  },
  {
   "cell_type": "code",
   "execution_count": 239,
   "metadata": {},
   "outputs": [
    {
     "name": "stdout",
     "output_type": "stream",
     "text": [
      "\u001b[33mcommit ae4d9a58aacbd57164fbd9d789637492987ca382\u001b[m\r\n",
      "Author: Dmitry Brook <dmitrii_bryuhanov@mail.ru>\r\n",
      "Date:   Mon Oct 19 14:13:11 2020 +0300\r\n",
      "\r\n",
      "    amending the previous change\r\n",
      "\r\n",
      "\u001b[1mdiff --git a/new_folder/third_file.txt b/new_folder/third_file.txt\u001b[m\r\n",
      "\u001b[1mindex 05c5176..f016d3c 100644\u001b[m\r\n",
      "\u001b[1m--- a/new_folder/third_file.txt\u001b[m\r\n",
      "\u001b[1m+++ b/new_folder/third_file.txt\u001b[m\r\n",
      "\u001b[36m@@ -1,2 +1,4 @@\u001b[m\r\n",
      " New line in a third file\u001b[m\r\n",
      " Second line in the third file\u001b[m\r\n",
      "\u001b[32m+\u001b[m\u001b[32mSome line that should not be there\u001b[m\r\n",
      "\u001b[32m+\u001b[m\u001b[32mAnother line that should not be there\u001b[m\r\n"
     ]
    }
   ],
   "source": [
    "!cd ./new_project/ && git show ae4d9a5"
   ]
  },
  {
   "cell_type": "markdown",
   "metadata": {},
   "source": [
    "## Removing untracked files"
   ]
  },
  {
   "cell_type": "code",
   "execution_count": 19,
   "metadata": {},
   "outputs": [
    {
     "name": "stdout",
     "output_type": "stream",
     "text": [
      "total 24\r\n",
      "drwxr-xr-x   8 user  staff  256 Nov  1 19:30 \u001b[34m.\u001b[m\u001b[m\r\n",
      "drwxr-xr-x  12 user  staff  384 Nov  1 19:29 \u001b[34m..\u001b[m\u001b[m\r\n",
      "drwxr-xr-x  13 user  staff  416 Nov  1 19:28 \u001b[34m.git\u001b[m\u001b[m\r\n",
      "-rw-r--r--   1 user  staff   16 Oct 27 21:57 .gitignore\r\n",
      "-rw-r--r--@  1 user  staff    9 Oct 27 21:44 first_file.txt\r\n",
      "drwxr-xr-x   4 user  staff  128 Oct 27 21:28 \u001b[34mnew_folder\u001b[m\u001b[m\r\n",
      "-rw-r--r--   1 user  staff   31 Oct 27 21:55 secret_keys.txt\r\n",
      "-rw-r--r--   1 user  staff    0 Nov  1 19:30 trash-1.txt\r\n"
     ]
    }
   ],
   "source": [
    "!cd ./new_dir1/ && ls -la"
   ]
  },
  {
   "cell_type": "code",
   "execution_count": 26,
   "metadata": {},
   "outputs": [],
   "source": [
    "!cd ./new_dir1/ && touch trash-1.txt"
   ]
  },
  {
   "cell_type": "code",
   "execution_count": 3,
   "metadata": {},
   "outputs": [],
   "source": [
    "!cd ./new_dir1/ && touch trash-2.txt"
   ]
  },
  {
   "cell_type": "code",
   "execution_count": 4,
   "metadata": {},
   "outputs": [],
   "source": [
    "!cd ./new_dir1/ && touch trash-3.txt"
   ]
  },
  {
   "cell_type": "code",
   "execution_count": 20,
   "metadata": {},
   "outputs": [
    {
     "name": "stdout",
     "output_type": "stream",
     "text": [
      "On branch master\r\n",
      "Untracked files:\r\n",
      "  (use \"git add <file>...\" to include in what will be committed)\r\n",
      "\t\u001b[31mtrash-1.txt\u001b[m\r\n",
      "\r\n",
      "nothing added to commit but untracked files present (use \"git add\" to track)\r\n"
     ]
    }
   ],
   "source": [
    "!cd ./new_dir1/ && git status"
   ]
  },
  {
   "cell_type": "code",
   "execution_count": 27,
   "metadata": {},
   "outputs": [],
   "source": [
    "!cd ./new_dir1/ && git add trash-1.txt"
   ]
  },
  {
   "cell_type": "code",
   "execution_count": 28,
   "metadata": {},
   "outputs": [
    {
     "name": "stdout",
     "output_type": "stream",
     "text": [
      "On branch master\r\n",
      "Changes to be committed:\r\n",
      "  (use \"git restore --staged <file>...\" to unstage)\r\n",
      "\t\u001b[32mnew file:   trash-1.txt\u001b[m\r\n",
      "\r\n"
     ]
    }
   ],
   "source": [
    "!cd ./new_dir1/ && git status"
   ]
  },
  {
   "cell_type": "code",
   "execution_count": 10,
   "metadata": {},
   "outputs": [
    {
     "name": "stdout",
     "output_type": "stream",
     "text": [
      "Removing trash-2.txt\r\n",
      "Removing trash-3.txt\r\n"
     ]
    }
   ],
   "source": [
    "!cd ./new_dir1/ && git clean -f"
   ]
  },
  {
   "cell_type": "code",
   "execution_count": 32,
   "metadata": {},
   "outputs": [
    {
     "name": "stdout",
     "output_type": "stream",
     "text": [
      "On branch master\r\n",
      "nothing to commit, working tree clean\r\n"
     ]
    }
   ],
   "source": [
    "!cd ./new_dir1/ && git status"
   ]
  },
  {
   "cell_type": "code",
   "execution_count": 13,
   "metadata": {},
   "outputs": [],
   "source": [
    "!cd ./new_dir1/ && git reset HEAD trash-1.txt"
   ]
  },
  {
   "cell_type": "code",
   "execution_count": 23,
   "metadata": {},
   "outputs": [],
   "source": [
    "!cd ./new_dir1/ && git restore --staged trash-1.txt"
   ]
  },
  {
   "cell_type": "code",
   "execution_count": 29,
   "metadata": {},
   "outputs": [
    {
     "name": "stdout",
     "output_type": "stream",
     "text": [
      "rm 'trash-1.txt'\r\n"
     ]
    }
   ],
   "source": [
    "!cd ./new_dir1/ && git rm --cached trash-1.txt"
   ]
  },
  {
   "cell_type": "code",
   "execution_count": 31,
   "metadata": {},
   "outputs": [
    {
     "name": "stdout",
     "output_type": "stream",
     "text": [
      "Removing trash-1.txt\r\n"
     ]
    }
   ],
   "source": [
    "!cd ./new_dir1/ && git clean -f"
   ]
  },
  {
   "cell_type": "markdown",
   "metadata": {},
   "source": [
    "## Ignoring files\n",
    "\n",
    "1. add filenames with their relative paths\n",
    "2. use regular expressions like\n",
    "    - texts/*.txt\n",
    "3. Negative expressions:\n",
    "    - *.html\n",
    "    - !index.html\n",
    "4. to ignore entire directory:\n",
    "    - node_modules/ \n",
    "5. use comments to structure the file & explain yourself:\n",
    "    - \\# this is a comment\n",
    "6. use blank lines to separate blocks of connected files to ignore"
   ]
  },
  {
   "cell_type": "code",
   "execution_count": 33,
   "metadata": {},
   "outputs": [],
   "source": [
    "%%bash\n",
    "touch ./new_dir1/commands.txt"
   ]
  },
  {
   "cell_type": "code",
   "execution_count": 34,
   "metadata": {},
   "outputs": [
    {
     "name": "stdout",
     "output_type": "stream",
     "text": [
      "On branch master\r\n",
      "Untracked files:\r\n",
      "  (use \"git add <file>...\" to include in what will be committed)\r\n",
      "\t\u001b[31mcommands.txt\u001b[m\r\n",
      "\r\n",
      "nothing added to commit but untracked files present (use \"git add\" to track)\r\n"
     ]
    }
   ],
   "source": [
    "!cd ./new_dir1/ && git status"
   ]
  },
  {
   "cell_type": "code",
   "execution_count": 36,
   "metadata": {},
   "outputs": [],
   "source": [
    "!cd ./new_dir1/ && touch .gitignore"
   ]
  },
  {
   "cell_type": "code",
   "execution_count": 37,
   "metadata": {},
   "outputs": [],
   "source": [
    "!cd ./new_dir1/ && echo \"commands.txt\" > .gitignore"
   ]
  },
  {
   "cell_type": "code",
   "execution_count": 39,
   "metadata": {},
   "outputs": [
    {
     "name": "stdout",
     "output_type": "stream",
     "text": [
      "On branch master\r\n",
      "Changes not staged for commit:\r\n",
      "  (use \"git add <file>...\" to update what will be committed)\r\n",
      "  (use \"git restore <file>...\" to discard changes in working directory)\r\n",
      "\t\u001b[31mmodified:   .gitignore\u001b[m\r\n",
      "\r\n",
      "Untracked files:\r\n",
      "  (use \"git add <file>...\" to include in what will be committed)\r\n",
      "\t\u001b[31msecret_keys.txt\u001b[m\r\n",
      "\r\n",
      "no changes added to commit (use \"git add\" and/or \"git commit -a\")\r\n"
     ]
    }
   ],
   "source": [
    "!cd ./new_dir1/ && git status"
   ]
  },
  {
   "cell_type": "code",
   "execution_count": 40,
   "metadata": {},
   "outputs": [],
   "source": [
    "!cd ./new_dir1/ && echo \"secret_keys.txt\" >> .gitignore"
   ]
  },
  {
   "cell_type": "code",
   "execution_count": 43,
   "metadata": {},
   "outputs": [],
   "source": [
    "!cd ./new_dir1/ && git add .gitignore"
   ]
  },
  {
   "cell_type": "code",
   "execution_count": 44,
   "metadata": {},
   "outputs": [
    {
     "name": "stdout",
     "output_type": "stream",
     "text": [
      "On branch master\r\n",
      "Changes to be committed:\r\n",
      "  (use \"git restore --staged <file>...\" to unstage)\r\n",
      "\t\u001b[32mmodified:   .gitignore\u001b[m\r\n",
      "\r\n"
     ]
    }
   ],
   "source": [
    "!cd ./new_dir1/ && git status"
   ]
  },
  {
   "cell_type": "code",
   "execution_count": 45,
   "metadata": {},
   "outputs": [
    {
     "name": "stdout",
     "output_type": "stream",
     "text": [
      "[master 848fa8f] Adding .gitignore\r\n",
      " 1 file changed, 1 insertion(+)\r\n"
     ]
    }
   ],
   "source": [
    "!cd ./new_dir1/ && git commit -m \"Adding .gitignore\""
   ]
  },
  {
   "cell_type": "code",
   "execution_count": 50,
   "metadata": {},
   "outputs": [],
   "source": [
    "%%bash\n",
    "echo \"#Folders:\" > ./new_dir1/.gitignore\n",
    "echo \"node_modules/\" >> ./new_dir1/.gitignore\n",
    "echo \"\" >> ./new_dir1/.gitignore\n",
    "echo \"#Files:\" >> ./new_dir1/.gitignore\n",
    "echo \"commands.txt\" >> ./new_dir1/.gitignore\n",
    "echo \"secret_keys.txt\" >> ./new_dir1/.gitignore\n",
    "echo \"\" >> ./new_dir1/.gitignore\n",
    "echo \"#Re:\" >> ./new_dir1/.gitignore\n",
    "echo \"*.zip\" >> ./new_dir1/.gitignore\n",
    "echo \"*.gz\" >> ./new_dir1/.gitignore"
   ]
  },
  {
   "cell_type": "code",
   "execution_count": 51,
   "metadata": {},
   "outputs": [
    {
     "name": "stdout",
     "output_type": "stream",
     "text": [
      "#Folders:\r\n",
      "node_modules/\r\n",
      "\r\n",
      "#Files:\r\n",
      "commands.txt\r\n",
      "secret_keys.txt\r\n",
      "\r\n",
      "#Re:\r\n",
      "*.zip\r\n",
      "*.gz\r\n"
     ]
    }
   ],
   "source": [
    "!cd ./new_dir1/ && cat .gitignore"
   ]
  },
  {
   "cell_type": "code",
   "execution_count": 52,
   "metadata": {},
   "outputs": [
    {
     "name": "stdout",
     "output_type": "stream",
     "text": [
      "On branch master\r\n",
      "Changes not staged for commit:\r\n",
      "  (use \"git add <file>...\" to update what will be committed)\r\n",
      "  (use \"git restore <file>...\" to discard changes in working directory)\r\n",
      "\t\u001b[31mmodified:   .gitignore\u001b[m\r\n",
      "\r\n",
      "no changes added to commit (use \"git add\" and/or \"git commit -a\")\r\n"
     ]
    }
   ],
   "source": [
    "!cd ./new_dir1/ && git status"
   ]
  },
  {
   "cell_type": "code",
   "execution_count": 54,
   "metadata": {},
   "outputs": [
    {
     "name": "stdout",
     "output_type": "stream",
     "text": [
      "On branch master\r\n",
      "nothing to commit, working tree clean\r\n"
     ]
    }
   ],
   "source": [
    "!cd ./new_dir1/ && git commit -am \"Adding files to .gitignore\""
   ]
  },
  {
   "cell_type": "code",
   "execution_count": 55,
   "metadata": {},
   "outputs": [
    {
     "name": "stdout",
     "output_type": "stream",
     "text": [
      "\u001b[33mcommit 9dbce9ece002e86c76c5f16f1f8f9ecead4464c2\u001b[m\u001b[33m (\u001b[m\u001b[1;36mHEAD -> \u001b[m\u001b[1;32mmaster\u001b[m\u001b[33m)\u001b[m\r\n",
      "Author: Dmitry Brook <dmitrii_bryuhanov@mail.ru>\r\n",
      "Date:   Sun Nov 1 19:47:24 2020 +0200\r\n",
      "\r\n",
      "    Adding files to .gitignore\r\n",
      "\r\n",
      "\u001b[1mdiff --git a/.gitignore b/.gitignore\u001b[m\r\n",
      "\u001b[1mindex ef6e32b..73deb2a 100644\u001b[m\r\n",
      "\u001b[1m--- a/.gitignore\u001b[m\r\n",
      "\u001b[1m+++ b/.gitignore\u001b[m\r\n",
      "\u001b[36m@@ -1,2 +1,10 @@\u001b[m\r\n",
      "\u001b[32m+\u001b[m\u001b[32m#Folders:\u001b[m\r\n",
      "\u001b[32m+\u001b[m\u001b[32mnode_modules/\u001b[m\r\n",
      "\u001b[32m+\u001b[m\r\n",
      "\u001b[32m+\u001b[m\u001b[32m#Files:\u001b[m\r\n",
      " commands.txt\u001b[m\r\n",
      " secret_keys.txt\u001b[m\r\n",
      "\u001b[32m+\u001b[m\r\n",
      "\u001b[32m+\u001b[m\u001b[32m#Re:\u001b[m\r\n",
      "\u001b[32m+\u001b[m\u001b[32m*.zip\u001b[m\r\n",
      "\u001b[32m+\u001b[m\u001b[32m*.gz\u001b[m\r\n"
     ]
    }
   ],
   "source": [
    "!cd ./new_dir1/ && git show -n1"
   ]
  },
  {
   "cell_type": "markdown",
   "metadata": {},
   "source": [
    "## What to ignore:\n",
    "\n",
    "A. Things you will not be able to read:\n",
    "1. Compiled source code\n",
    "2. Packages & compressed files\n",
    "3. Logs & databases\n",
    "4. OS generated files\n",
    "5. User uploaded assests (images / videos / PDFs) that are not part of the core project\n",
    "\n",
    "B. Git ignore templates: [templates](https://github.com/github/gitignore)\n",
    "1. [Node.js gitignore](https://github.com/github/gitignore/blob/master/Node.gitignore)\n",
    "2. [Python gitignore](https://github.com/github/gitignore/blob/master/Python.gitignore)\n"
   ]
  },
  {
   "cell_type": "markdown",
   "metadata": {},
   "source": [
    "## Ignoring globally:\n",
    "- we previously discussed project specific ignoring\n",
    "- this allows for user specific ignoring (when files should always be ignored)\n",
    "- git config --global core.excludesfile ~/.gitignore_global"
   ]
  },
  {
   "cell_type": "markdown",
   "metadata": {},
   "source": [
    "## Tracking empty directories"
   ]
  },
  {
   "cell_type": "code",
   "execution_count": 56,
   "metadata": {},
   "outputs": [
    {
     "name": "stdout",
     "output_type": "stream",
     "text": [
      "100644 blob 73deb2ace877a48c9e1e9c1742fc8f56836c9afd\t.gitignore\r\n",
      "100644 blob 979c0b1234a2871ee76cb5f49f376afa7bb2aa9c\tfirst_file.txt\r\n",
      "040000 tree 097d595e3ec014207375c129ee81717ef3591362\tnew_folder\r\n"
     ]
    }
   ],
   "source": [
    "!cd ./new_dir1/ && git ls-tree HEAD"
   ]
  },
  {
   "cell_type": "code",
   "execution_count": 61,
   "metadata": {},
   "outputs": [],
   "source": [
    "!cd ./new_dir1/ && mkdir -p ./empty_dir;"
   ]
  },
  {
   "cell_type": "code",
   "execution_count": 64,
   "metadata": {},
   "outputs": [
    {
     "name": "stdout",
     "output_type": "stream",
     "text": [
      "On branch master\r\n",
      "nothing to commit, working tree clean\r\n"
     ]
    }
   ],
   "source": [
    "!cd ./new_dir1/ && git status"
   ]
  },
  {
   "cell_type": "code",
   "execution_count": 63,
   "metadata": {},
   "outputs": [
    {
     "name": "stdout",
     "output_type": "stream",
     "text": [
      "total 24\r\n",
      "drwxr-xr-x   9 user  staff  288 Nov  1 19:55 \u001b[34m.\u001b[m\u001b[m\r\n",
      "drwxr-xr-x  12 user  staff  384 Nov  1 19:55 \u001b[34m..\u001b[m\u001b[m\r\n",
      "drwxr-xr-x  13 user  staff  416 Nov  1 19:55 \u001b[34m.git\u001b[m\u001b[m\r\n",
      "-rw-r--r--   1 user  staff   79 Nov  1 19:46 .gitignore\r\n",
      "-rw-r--r--   1 user  staff    0 Nov  1 19:37 commands.txt\r\n",
      "drwxr-xr-x   2 user  staff   64 Nov  1 19:55 \u001b[34mempty_dir\u001b[m\u001b[m\r\n",
      "-rw-r--r--@  1 user  staff    9 Oct 27 21:44 first_file.txt\r\n",
      "drwxr-xr-x   4 user  staff  128 Oct 27 21:28 \u001b[34mnew_folder\u001b[m\u001b[m\r\n",
      "-rw-r--r--   1 user  staff   31 Oct 27 21:55 secret_keys.txt\r\n"
     ]
    }
   ],
   "source": [
    "!cd ./new_dir1/ && ls -la"
   ]
  },
  {
   "cell_type": "code",
   "execution_count": 65,
   "metadata": {},
   "outputs": [],
   "source": [
    "!cd ./new_dir1/ && touch ./empty_dir/.gitkeep"
   ]
  },
  {
   "cell_type": "code",
   "execution_count": 67,
   "metadata": {},
   "outputs": [
    {
     "name": "stdout",
     "output_type": "stream",
     "text": [
      "On branch master\r\n",
      "Untracked files:\r\n",
      "  (use \"git add <file>...\" to include in what will be committed)\r\n",
      "\t\u001b[31mempty_dir/\u001b[m\r\n",
      "\r\n",
      "nothing added to commit but untracked files present (use \"git add\" to track)\r\n"
     ]
    }
   ],
   "source": [
    "!cd ./new_dir1/ && git status"
   ]
  },
  {
   "cell_type": "code",
   "execution_count": 290,
   "metadata": {},
   "outputs": [],
   "source": [
    "%%bash\n",
    "echo \"#Folders:\" > ./new_project/.gitignore\n",
    "echo \"node_modules/\" >> ./new_project/.gitignore\n",
    "echo \".DS_Store\" >> ./new_project/.gitignore\n",
    "echo \"\" >> ./new_project/.gitignore\n",
    "echo \"#Files:\" >> ./new_project/.gitignore\n",
    "echo \"commands.txt\" >> ./new_project/.gitignore\n",
    "echo \"\" >> ./new_project/.gitignore\n",
    "echo \"#Re:\" >> ./new_project/.gitignore\n",
    "echo \"*.zip\" >> ./new_project/.gitignore\n",
    "echo \"*.gz\" >> ./new_project/.gitignore"
   ]
  },
  {
   "cell_type": "code",
   "execution_count": 291,
   "metadata": {},
   "outputs": [
    {
     "name": "stdout",
     "output_type": "stream",
     "text": [
      "On branch master\r\n",
      "Changes not staged for commit:\r\n",
      "  (use \"git add <file>...\" to update what will be committed)\r\n",
      "  (use \"git restore <file>...\" to discard changes in working directory)\r\n",
      "\t\u001b[31mmodified:   .gitignore\u001b[m\r\n",
      "\r\n",
      "Untracked files:\r\n",
      "  (use \"git add <file>...\" to include in what will be committed)\r\n",
      "\t\u001b[31mempty_dir/\u001b[m\r\n",
      "\r\n",
      "no changes added to commit (use \"git add\" and/or \"git commit -a\")\r\n"
     ]
    }
   ],
   "source": [
    "!cd ./new_project/ && git status"
   ]
  },
  {
   "cell_type": "code",
   "execution_count": 70,
   "metadata": {},
   "outputs": [],
   "source": [
    "!cd ./new_dir1/ && git add ."
   ]
  },
  {
   "cell_type": "code",
   "execution_count": 71,
   "metadata": {},
   "outputs": [
    {
     "name": "stdout",
     "output_type": "stream",
     "text": [
      "On branch master\r\n",
      "Changes to be committed:\r\n",
      "  (use \"git restore --staged <file>...\" to unstage)\r\n",
      "\t\u001b[32mnew file:   empty_dir/.gitkeep\u001b[m\r\n",
      "\r\n"
     ]
    }
   ],
   "source": [
    "!cd ./new_dir1/ && git status"
   ]
  },
  {
   "cell_type": "code",
   "execution_count": 72,
   "metadata": {},
   "outputs": [
    {
     "name": "stdout",
     "output_type": "stream",
     "text": [
      "[master cd8d4a4] Adding an empty_folder & .gitignore\r\n",
      " 1 file changed, 0 insertions(+), 0 deletions(-)\r\n",
      " create mode 100644 empty_dir/.gitkeep\r\n"
     ]
    }
   ],
   "source": [
    "!cd ./new_dir1/ && git commit -m \"Adding an empty_folder & .gitignore\""
   ]
  },
  {
   "cell_type": "code",
   "execution_count": 74,
   "metadata": {},
   "outputs": [
    {
     "name": "stdout",
     "output_type": "stream",
     "text": [
      "\u001b[33mcommit cd8d4a443d53508908ae45192fe6289ede574a27\u001b[m\u001b[33m (\u001b[m\u001b[1;36mHEAD -> \u001b[m\u001b[1;32mmaster\u001b[m\u001b[33m)\u001b[m\n",
      "Author: Dmitry Brook <dmitrii_bryuhanov@mail.ru>\n",
      "Date:   Sun Nov 1 20:00:20 2020 +0200\n",
      "\n",
      "    Adding an empty_folder & .gitignore\n",
      "\n",
      "\u001b[1mdiff --git a/empty_dir/.gitkeep b/empty_dir/.gitkeep\u001b[m\n",
      "\u001b[1mnew file mode 100644\u001b[m\n",
      "\u001b[1mindex 0000000..e69de29\u001b[m\n"
     ]
    }
   ],
   "source": [
    "!cd ./new_dir1/ && git show HEAD"
   ]
  },
  {
   "cell_type": "code",
   "execution_count": 76,
   "metadata": {},
   "outputs": [
    {
     "name": "stdout",
     "output_type": "stream",
     "text": [
      "\u001b[33mcommit cd8d4a443d53508908ae45192fe6289ede574a27\u001b[m\u001b[33m (\u001b[m\u001b[1;36mHEAD -> \u001b[m\u001b[1;32mmaster\u001b[m\u001b[33m)\u001b[m\n",
      "Author: Dmitry Brook <dmitrii_bryuhanov@mail.ru>\n",
      "Date:   Sun Nov 1 20:00:20 2020 +0200\n",
      "\n",
      "    Adding an empty_folder & .gitignore\n",
      "\n",
      " empty_dir/.gitkeep | 0\n",
      " 1 file changed, 0 insertions(+), 0 deletions(-)\n",
      "\n",
      "\u001b[33mcommit 9dbce9ece002e86c76c5f16f1f8f9ecead4464c2\u001b[m\n",
      "Author: Dmitry Brook <dmitrii_bryuhanov@mail.ru>\n",
      "Date:   Sun Nov 1 19:47:24 2020 +0200\n",
      "\n",
      "    Adding files to .gitignore\n",
      "\n",
      " .gitignore | 8 \u001b[32m++++++++\u001b[m\n",
      " 1 file changed, 8 insertions(+)\n",
      "\n",
      "\u001b[33mcommit 848fa8fd272fd9277d143d2711d4ce5d6f1bae9b\u001b[m\n",
      "Author: Dmitry Brook <dmitrii_bryuhanov@mail.ru>\n",
      "Date:   Sun Nov 1 19:41:56 2020 +0200\n",
      "\n",
      "    Adding .gitignore\n",
      "\n",
      " .gitignore | 1 \u001b[32m+\u001b[m\n",
      " 1 file changed, 1 insertion(+)\n",
      "\n",
      "\u001b[33mcommit db52848b2af919001d6ef3cdce1428f1de3c6dcc\u001b[m\n",
      "Author: Dmitry Brook <dmitrii_bryuhanov@mail.ru>\n",
      "Date:   Tue Oct 27 21:57:51 2020 +0200\n",
      "\n",
      "    Adding .gitignore\n",
      "\n",
      " .gitignore | 1 \u001b[32m+\u001b[m\n",
      " 1 file changed, 1 insertion(+)\n",
      "\n",
      "\u001b[33mcommit d8ad52b8492830560f57e8d624bbe4aae99c847a\u001b[m\n",
      "Author: Dmitry Brook <dmitrii_bryuhanov@mail.ru>\n",
      "Date:   Tue Oct 27 21:46:38 2020 +0200\n",
      "\n",
      "    Modifying first_file.txt\n",
      "    \n",
      "    Replaced the 4 lines of text\n",
      "    with a one liner\n",
      "\n",
      " first_file.txt | 5 \u001b[32m+\u001b[m\u001b[31m----\u001b[m\n",
      " 1 file changed, 1 insertion(+), 4 deletions(-)\n",
      "\n",
      "\u001b[33mcommit e005b91ea7ad5eb1469ca5f5bb0502e086116f3d\u001b[m\n",
      "Author: Dmitry Brook <dmitrii_bryuhanov@mail.ru>\n",
      "Date:   Tue Oct 27 21:33:59 2020 +0200\n",
      "\n",
      "    Replacing New -> Old in second_file\n",
      "\n",
      " new_folder/second_file.txt | 2 \u001b[32m+\u001b[m\u001b[31m-\u001b[m\n",
      " 1 file changed, 1 insertion(+), 1 deletion(-)\n",
      "\n",
      "\u001b[33mcommit 367dd9e53c167782e60478fc6ca3e7259ed0f9b1\u001b[m\n",
      "Author: Dmitry Brook <dmitrii_bryuhanov@mail.ru>\n",
      "Date:   Tue Oct 27 21:29:14 2020 +0200\n",
      "\n",
      "    Moving second_file.txt -> new_folder/second_file.txt\n",
      "\n",
      " second_file.txt => new_folder/second_file.txt | 0\n",
      " 1 file changed, 0 insertions(+), 0 deletions(-)\n",
      "\n",
      "\u001b[33mcommit a0f824c97b326c42084ec43e63b11a92548eff78\u001b[m\n",
      "Author: Dmitry Brook <dmitrii_bryuhanov@mail.ru>\n",
      "Date:   Tue Oct 27 21:26:13 2020 +0200\n",
      "\n",
      "    Moving third_file.txt -> new_folder/third_file.txt\n",
      "\n",
      " third_file.txt => new_folder/third_file.txt | 0\n",
      " 1 file changed, 0 insertions(+), 0 deletions(-)\n",
      "\n",
      "\u001b[33mcommit 8980e7dae17f858a6228fba95c68b7249890321c\u001b[m\n",
      "Author: Dmitry Brook <dmitrii_bryuhanov@mail.ru>\n",
      "Date:   Tue Oct 27 21:19:55 2020 +0200\n",
      "\n",
      "    Renaming some_file.txt -> first_file.txt\n",
      "\n",
      " some_file.txt => first_file.txt | 0\n",
      " 1 file changed, 0 insertions(+), 0 deletions(-)\n",
      "\n",
      "\u001b[33mcommit 149f614370ae316dc4bfbb28d3fc3f5b78d72fa8\u001b[m\n",
      "Author: Dmitry Brook <dmitrii_bryuhanov@mail.ru>\n",
      "Date:   Tue Oct 27 21:11:03 2020 +0200\n",
      "\n",
      "    Restoring second_file.txt\n",
      "\n",
      " second_file.txt | 4 \u001b[32m+\u001b[m\u001b[31m---\u001b[m\n",
      " 1 file changed, 1 insertion(+), 3 deletions(-)\n",
      "\n",
      "\u001b[33mcommit c19a32c352491a267277dcafa6e3267d146b4492\u001b[m\n",
      "Author: Dmitry Brook <dmitrii_bryuhanov@mail.ru>\n",
      "Date:   Tue Oct 27 20:16:30 2020 +0200\n",
      "\n",
      "    Adding third line to second_.txt\n",
      "\n",
      " second_file.txt | 1 \u001b[32m+\u001b[m\n",
      " 1 file changed, 1 insertion(+)\n",
      "\n",
      "\u001b[33mcommit 0499fa7cc888dfa6889d476872821f1cad7efe5d\u001b[m\n",
      "Author: Dmitry Brook <dmitrii_bryuhanov@mail.ru>\n",
      "Date:   Tue Oct 27 19:59:30 2020 +0200\n",
      "\n",
      "    Adding the second line\n",
      "\n",
      " third_file.txt | 1 \u001b[32m+\u001b[m\n",
      " 1 file changed, 1 insertion(+)\n",
      "\n",
      "\u001b[33mcommit 3f9db228f497be425e23d31332c688a7cb1640ab\u001b[m\n",
      "Author: Dmitry Brook <dmitrii_bryuhanov@mail.ru>\n",
      "Date:   Tue Oct 27 19:58:09 2020 +0200\n",
      "\n",
      "    Adding third_file.txt\n",
      "\n",
      " third_file.txt | 1 \u001b[32m+\u001b[m\n",
      " 1 file changed, 1 insertion(+)\n",
      "\n",
      "\u001b[33mcommit 4b57c4f2caf06c18ec56fee73c865df6f4ffbcf7\u001b[m\n",
      "Author: Dmitry Brook <dmitrii_bryuhanov@mail.ru>\n",
      "Date:   Tue Oct 27 19:54:10 2020 +0200\n",
      "\n",
      "    Adding second_file.txt\n",
      "\n",
      " second_file.txt | 2 \u001b[32m++\u001b[m\n",
      " 1 file changed, 2 insertions(+)\n",
      "\n",
      "\u001b[33mcommit 4529a82e97f729ce52823a4695a85d0aa7c9f389\u001b[m\n",
      "Author: Dmitry Brook <dmitrii_bryuhanov@mail.ru>\n",
      "Date:   Sun Oct 25 21:52:48 2020 +0200\n",
      "\n",
      "    Adding multiline text\n",
      "    \n",
      "    Demonstrating the output of a successful commit\n",
      "\n",
      " some_file.txt | 5 \u001b[32m++++\u001b[m\u001b[31m-\u001b[m\n",
      " 1 file changed, 4 insertions(+), 1 deletion(-)\n",
      "\n",
      "\u001b[33mcommit ab48b0ed2cbb5ec6e4fe3d0a201252cb3ad5dd9c\u001b[m\n",
      "Author: Dmitry Brook <dmitrii_bryuhanov@mail.ru>\n",
      "Date:   Sun Oct 25 21:33:43 2020 +0200\n",
      "\n",
      "    Adding some_file.txt\n",
      "\n",
      " some_file.txt | 1 \u001b[32m+\u001b[m\n",
      " 1 file changed, 1 insertion(+)\n"
     ]
    }
   ],
   "source": [
    "!cd ./new_dir1/ && git log --stat"
   ]
  },
  {
   "cell_type": "markdown",
   "metadata": {},
   "source": [
    "<html>\n",
    "    <table id=\"pretty_format\" class=\"tableblock frame-all grid-all stretch\">\n",
    "<caption class=\"title\">Useful specifiers for <code>git log --pretty=format</code>\n",
    "</caption>\n",
    "<colgroup>\n",
    "<col style=\"width: 20%;\">\n",
    "<col style=\"width: 80%;\">\n",
    "</colgroup>\n",
    "<thead>\n",
    "<tr>\n",
    "<th class=\"tableblock halign-left valign-top\">Specifier</th>\n",
    "<th class=\"tableblock halign-left valign-top\">Description of Output</th>\n",
    "</tr>\n",
    "</thead>\n",
    "<tbody>\n",
    "<tr>\n",
    "<td class=\"tableblock halign-left valign-top\"><p class=\"tableblock\"><code>%H</code></p></td>\n",
    "<td class=\"tableblock halign-left valign-top\"><p class=\"tableblock\">Commit hash</p></td>\n",
    "</tr>\n",
    "<tr>\n",
    "<td class=\"tableblock halign-left valign-top\"><p class=\"tableblock\"><code>%h</code></p></td>\n",
    "<td class=\"tableblock halign-left valign-top\"><p class=\"tableblock\">Abbreviated commit hash</p></td>\n",
    "</tr>\n",
    "<tr>\n",
    "<td class=\"tableblock halign-left valign-top\"><p class=\"tableblock\"><code>%T</code></p></td>\n",
    "<td class=\"tableblock halign-left valign-top\"><p class=\"tableblock\">Tree hash</p></td>\n",
    "</tr>\n",
    "<tr>\n",
    "<td class=\"tableblock halign-left valign-top\"><p class=\"tableblock\"><code>%t</code></p></td>\n",
    "<td class=\"tableblock halign-left valign-top\"><p class=\"tableblock\">Abbreviated tree hash</p></td>\n",
    "</tr>\n",
    "<tr>\n",
    "<td class=\"tableblock halign-left valign-top\"><p class=\"tableblock\"><code>%P</code></p></td>\n",
    "<td class=\"tableblock halign-left valign-top\"><p class=\"tableblock\">Parent hashes</p></td>\n",
    "</tr>\n",
    "<tr>\n",
    "<td class=\"tableblock halign-left valign-top\"><p class=\"tableblock\"><code>%p</code></p></td>\n",
    "<td class=\"tableblock halign-left valign-top\"><p class=\"tableblock\">Abbreviated parent hashes</p></td>\n",
    "</tr>\n",
    "<tr>\n",
    "<td class=\"tableblock halign-left valign-top\"><p class=\"tableblock\"><code>%an</code></p></td>\n",
    "<td class=\"tableblock halign-left valign-top\"><p class=\"tableblock\">Author name</p></td>\n",
    "</tr>\n",
    "<tr>\n",
    "<td class=\"tableblock halign-left valign-top\"><p class=\"tableblock\"><code>%ae</code></p></td>\n",
    "<td class=\"tableblock halign-left valign-top\"><p class=\"tableblock\">Author email</p></td>\n",
    "</tr>\n",
    "<tr>\n",
    "<td class=\"tableblock halign-left valign-top\"><p class=\"tableblock\"><code>%ad</code></p></td>\n",
    "<td class=\"tableblock halign-left valign-top\"><p class=\"tableblock\">Author date (format respects the --date=option)</p></td>\n",
    "</tr>\n",
    "<tr>\n",
    "<td class=\"tableblock halign-left valign-top\"><p class=\"tableblock\"><code>%ar</code></p></td>\n",
    "<td class=\"tableblock halign-left valign-top\"><p class=\"tableblock\">Author date, relative</p></td>\n",
    "</tr>\n",
    "<tr>\n",
    "<td class=\"tableblock halign-left valign-top\"><p class=\"tableblock\"><code>%cn</code></p></td>\n",
    "<td class=\"tableblock halign-left valign-top\"><p class=\"tableblock\">Committer name</p></td>\n",
    "</tr>\n",
    "<tr>\n",
    "<td class=\"tableblock halign-left valign-top\"><p class=\"tableblock\"><code>%ce</code></p></td>\n",
    "<td class=\"tableblock halign-left valign-top\"><p class=\"tableblock\">Committer email</p></td>\n",
    "</tr>\n",
    "<tr>\n",
    "<td class=\"tableblock halign-left valign-top\"><p class=\"tableblock\"><code>%cd</code></p></td>\n",
    "<td class=\"tableblock halign-left valign-top\"><p class=\"tableblock\">Committer date</p></td>\n",
    "</tr>\n",
    "<tr>\n",
    "<td class=\"tableblock halign-left valign-top\"><p class=\"tableblock\"><code>%cr</code></p></td>\n",
    "<td class=\"tableblock halign-left valign-top\"><p class=\"tableblock\">Committer date, relative</p></td>\n",
    "</tr>\n",
    "<tr>\n",
    "<td class=\"tableblock halign-left valign-top\"><p class=\"tableblock\"><code>%s</code></p></td>\n",
    "<td class=\"tableblock halign-left valign-top\"><p class=\"tableblock\">Subject</p></td>\n",
    "</tr>\n",
    "</tbody>\n",
    "</table>\n",
    "</html>"
   ]
  },
  {
   "cell_type": "code",
   "execution_count": 77,
   "metadata": {},
   "outputs": [
    {
     "name": "stdout",
     "output_type": "stream",
     "text": [
      "cd8d4a4 - Dmitry Brook, 5 minutes ago : Adding an empty_folder & .gitignore\r\n",
      "9dbce9e - Dmitry Brook, 18 minutes ago : Adding files to .gitignore\r\n",
      "848fa8f - Dmitry Brook, 23 minutes ago : Adding .gitignore\r\n",
      "db52848 - Dmitry Brook, 5 days ago : Adding .gitignore\r\n",
      "d8ad52b - Dmitry Brook, 5 days ago : Modifying first_file.txt\r\n",
      "e005b91 - Dmitry Brook, 5 days ago : Replacing New -> Old in second_file\r\n",
      "367dd9e - Dmitry Brook, 5 days ago : Moving second_file.txt -> new_folder/second_file.txt\r\n",
      "a0f824c - Dmitry Brook, 5 days ago : Moving third_file.txt -> new_folder/third_file.txt\r\n",
      "8980e7d - Dmitry Brook, 5 days ago : Renaming some_file.txt -> first_file.txt\r\n",
      "149f614 - Dmitry Brook, 5 days ago : Restoring second_file.txt\r\n",
      "c19a32c - Dmitry Brook, 5 days ago : Adding third line to second_.txt\r\n",
      "0499fa7 - Dmitry Brook, 5 days ago : Adding the second line\r\n",
      "3f9db22 - Dmitry Brook, 5 days ago : Adding third_file.txt\r\n",
      "4b57c4f - Dmitry Brook, 5 days ago : Adding second_file.txt\r\n",
      "4529a82 - Dmitry Brook, 7 days ago : Adding multiline text\r\n",
      "ab48b0e - Dmitry Brook, 7 days ago : Adding some_file.txt"
     ]
    }
   ],
   "source": [
    "!cd ./new_dir1/ && git log --pretty=format:\"%h - %an, %ar : %s\""
   ]
  },
  {
   "cell_type": "markdown",
   "metadata": {},
   "source": [
    "## Adding remote repositories"
   ]
  },
  {
   "cell_type": "code",
   "execution_count": 79,
   "metadata": {},
   "outputs": [
    {
     "name": "stdout",
     "output_type": "stream",
     "text": [
      "/bin/bash: line 0: cd: ../new_dir1/: No such file or directory\r\n"
     ]
    }
   ],
   "source": [
    "!cd ./new_dir1/ && git remote add origin https://github.com/DimaBryuhanov/git_lesson.git ."
   ]
  },
  {
   "cell_type": "code",
   "execution_count": 80,
   "metadata": {},
   "outputs": [
    {
     "name": "stdout",
     "output_type": "stream",
     "text": [
      "origin\thttps://github.com/DimaBryuhanov/git_lesson.git (fetch)\r\n",
      "origin\thttps://github.com/DimaBryuhanov/git_lesson.git (push)\r\n"
     ]
    }
   ],
   "source": [
    "!cd ./new_dir1/ && git remote -v"
   ]
  },
  {
   "cell_type": "code",
   "execution_count": 81,
   "metadata": {},
   "outputs": [
    {
     "name": "stdout",
     "output_type": "stream",
     "text": [
      "fatal: 'pb' does not appear to be a git repository\r\n",
      "fatal: Could not read from remote repository.\r\n",
      "\r\n",
      "Please make sure you have the correct access rights\r\n",
      "and the repository exists.\r\n"
     ]
    }
   ],
   "source": [
    "!cd ./new_dir1/ && git fetch pb"
   ]
  },
  {
   "cell_type": "markdown",
   "metadata": {},
   "source": [
    "## Pushing changes to the remote repository"
   ]
  },
  {
   "cell_type": "code",
   "execution_count": 311,
   "metadata": {},
   "outputs": [
    {
     "name": "stdout",
     "output_type": "stream",
     "text": [
      "Enumerating objects: 65, done.\n",
      "Counting objects: 100% (65/65), done.\n",
      "Delta compression using up to 4 threads\n",
      "Compressing objects: 100% (45/45), done.\n",
      "Writing objects: 100% (65/65), 6.00 KiB | 1.20 MiB/s, done.\n",
      "Total 65 (delta 10), reused 0 (delta 0)\n",
      "remote: Resolving deltas: 100% (10/10), done.\u001b[K\n",
      "To https://github.com/DimaBryuhanov/git_lesson.git\n",
      " * [new branch]      master -> master\n"
     ]
    }
   ],
   "source": [
    "!cd ./new_dir1/ && git push origin master"
   ]
  },
  {
   "cell_type": "code",
   "execution_count": 82,
   "metadata": {},
   "outputs": [
    {
     "name": "stdout",
     "output_type": "stream",
     "text": [
      "* remote origin\r\n",
      "  Fetch URL: https://github.com/DimaBryuhanov/git_lesson.git\r\n",
      "  Push  URL: https://github.com/DimaBryuhanov/git_lesson.git\r\n",
      "  HEAD branch: master\r\n",
      "  Remote branches:\r\n",
      "    master new (next fetch will store in remotes/origin)\r\n",
      "    test   new (next fetch will store in remotes/origin)\r\n",
      "  Local ref configured for 'git push':\r\n",
      "    master pushes to master (local out of date)\r\n"
     ]
    }
   ],
   "source": [
    "!cd ./new_dir1/ && git remote show origin"
   ]
  },
  {
   "cell_type": "markdown",
   "metadata": {},
   "source": [
    "## Branching"
   ]
  },
  {
   "cell_type": "code",
   "execution_count": 315,
   "metadata": {},
   "outputs": [],
   "source": [
    "!cd ./new_project/ && git branch test"
   ]
  },
  {
   "cell_type": "markdown",
   "metadata": {},
   "source": [
    "## Switching to the new branch"
   ]
  },
  {
   "cell_type": "code",
   "execution_count": 316,
   "metadata": {},
   "outputs": [
    {
     "name": "stdout",
     "output_type": "stream",
     "text": [
      "Switched to branch 'test'\r\n"
     ]
    }
   ],
   "source": [
    "!cd ./new_project/ && git checkout test"
   ]
  },
  {
   "cell_type": "code",
   "execution_count": 318,
   "metadata": {},
   "outputs": [
    {
     "name": "stdout",
     "output_type": "stream",
     "text": [
      "\u001b[33mcommit 921eadc11ca7da98adf7969b0e2fc22379c1b3e0\u001b[m\u001b[33m (\u001b[m\u001b[1;36mHEAD -> \u001b[m\u001b[1;32mtest\u001b[m\u001b[33m, \u001b[m\u001b[1;31morigin/master\u001b[m\u001b[33m, \u001b[m\u001b[1;32mmaster\u001b[m\u001b[33m)\u001b[m\r\n",
      "Author: Dmitry Brook <dmitrii_bryuhanov@mail.ru>\r\n",
      "Date:   Tue Oct 20 11:34:02 2020 +0300\r\n",
      "\r\n",
      "    Adding an empty_folder & .DS_Store to .gitignore\r\n"
     ]
    }
   ],
   "source": [
    "!cd ./new_project/ && git log HEAD -n1"
   ]
  },
  {
   "cell_type": "code",
   "execution_count": 319,
   "metadata": {},
   "outputs": [],
   "source": [
    "!cd ./new_project/new_folder/ && touch another_file.txt"
   ]
  },
  {
   "cell_type": "code",
   "execution_count": 321,
   "metadata": {},
   "outputs": [],
   "source": [
    "!cd ./new_project/ && git add ."
   ]
  },
  {
   "cell_type": "code",
   "execution_count": 322,
   "metadata": {},
   "outputs": [
    {
     "name": "stdout",
     "output_type": "stream",
     "text": [
      "[test 0b7d3a3] first commit in the branch\r\n",
      " 1 file changed, 0 insertions(+), 0 deletions(-)\r\n",
      " create mode 100644 new_folder/another_file.txt\r\n"
     ]
    }
   ],
   "source": [
    "!cd ./new_project/ && git commit -m \"first commit in the branch\""
   ]
  },
  {
   "cell_type": "code",
   "execution_count": 323,
   "metadata": {},
   "outputs": [
    {
     "name": "stdout",
     "output_type": "stream",
     "text": [
      "\u001b[33mcommit 0b7d3a3dda374b89b077fab0c25ccfdb597831c3\u001b[m\u001b[33m (\u001b[m\u001b[1;36mHEAD -> \u001b[m\u001b[1;32mtest\u001b[m\u001b[33m)\u001b[m\r\n",
      "Author: Dmitry Brook <dmitrii_bryuhanov@mail.ru>\r\n",
      "Date:   Tue Oct 20 16:30:56 2020 +0300\r\n",
      "\r\n",
      "    first commit in the branch\r\n"
     ]
    }
   ],
   "source": [
    "!cd ./new_project/ && git log HEAD -n1"
   ]
  },
  {
   "cell_type": "code",
   "execution_count": 325,
   "metadata": {},
   "outputs": [
    {
     "name": "stdout",
     "output_type": "stream",
     "text": [
      "Enumerating objects: 5, done.\n",
      "Counting objects: 100% (5/5), done.\n",
      "Delta compression using up to 4 threads\n",
      "Compressing objects: 100% (3/3), done.\n",
      "Writing objects: 100% (3/3), 402 bytes | 402.00 KiB/s, done.\n",
      "Total 3 (delta 1), reused 0 (delta 0)\n",
      "remote: Resolving deltas: 100% (1/1), completed with 1 local object.\u001b[K\n",
      "remote: \n",
      "remote: Create a pull request for 'test' on GitHub by visiting:\u001b[K\n",
      "remote:      https://github.com/DimaBryuhanov/git_lesson/pull/new/test\u001b[K\n",
      "remote: \n",
      "To https://github.com/DimaBryuhanov/git_lesson.git\n",
      " * [new branch]      test -> test\n"
     ]
    }
   ],
   "source": [
    "!cd ./new_project/ && git push origin test"
   ]
  },
  {
   "cell_type": "markdown",
   "metadata": {},
   "source": [
    "### Switching back to the master branch"
   ]
  },
  {
   "cell_type": "code",
   "execution_count": 326,
   "metadata": {},
   "outputs": [
    {
     "name": "stdout",
     "output_type": "stream",
     "text": [
      "Switched to branch 'master'\r\n"
     ]
    }
   ],
   "source": [
    "!cd ./new_project/ && git checkout master"
   ]
  },
  {
   "cell_type": "code",
   "execution_count": 327,
   "metadata": {},
   "outputs": [
    {
     "name": "stdout",
     "output_type": "stream",
     "text": [
      "\u001b[33mcommit 921eadc11ca7da98adf7969b0e2fc22379c1b3e0\u001b[m\u001b[33m (\u001b[m\u001b[1;36mHEAD -> \u001b[m\u001b[1;32mmaster\u001b[m\u001b[33m, \u001b[m\u001b[1;31morigin/master\u001b[m\u001b[33m)\u001b[m\r\n",
      "Author: Dmitry Brook <dmitrii_bryuhanov@mail.ru>\r\n",
      "Date:   Tue Oct 20 11:34:02 2020 +0300\r\n",
      "\r\n",
      "    Adding an empty_folder & .DS_Store to .gitignore\r\n"
     ]
    }
   ],
   "source": [
    "!cd ./new_project/ && git log HEAD -n1"
   ]
  },
  {
   "cell_type": "code",
   "execution_count": 328,
   "metadata": {},
   "outputs": [],
   "source": [
    "!cd ./new_project/new_folder/ && touch still_other_file.txt"
   ]
  },
  {
   "cell_type": "code",
   "execution_count": 329,
   "metadata": {},
   "outputs": [],
   "source": [
    "!cd ./new_project/ && git add ."
   ]
  },
  {
   "cell_type": "code",
   "execution_count": 330,
   "metadata": {},
   "outputs": [
    {
     "name": "stdout",
     "output_type": "stream",
     "text": [
      "[master 856733e] Adding still_other_file.txt to the master\r\n",
      " 1 file changed, 0 insertions(+), 0 deletions(-)\r\n",
      " create mode 100644 new_folder/still_other_file.txt\r\n"
     ]
    }
   ],
   "source": [
    "!cd ./new_project/ && git commit -m \"Adding still_other_file.txt to the master\""
   ]
  },
  {
   "cell_type": "code",
   "execution_count": 331,
   "metadata": {},
   "outputs": [
    {
     "name": "stdout",
     "output_type": "stream",
     "text": [
      "\u001b[33mcommit 856733e03c1b260eff0908dc30ecbe4d709c51ea\u001b[m\u001b[33m (\u001b[m\u001b[1;36mHEAD -> \u001b[m\u001b[1;32mmaster\u001b[m\u001b[33m)\u001b[m\r\n",
      "Author: Dmitry Brook <dmitrii_bryuhanov@mail.ru>\r\n",
      "Date:   Tue Oct 20 16:47:52 2020 +0300\r\n",
      "\r\n",
      "    Adding still_other_file.txt to the master\r\n",
      "\r\n",
      "\u001b[1mdiff --git a/new_folder/still_other_file.txt b/new_folder/still_other_file.txt\u001b[m\r\n",
      "\u001b[1mnew file mode 100644\u001b[m\r\n",
      "\u001b[1mindex 0000000..e69de29\u001b[m\r\n"
     ]
    }
   ],
   "source": [
    "!cd ./new_project/ && git show HEAD"
   ]
  },
  {
   "cell_type": "code",
   "execution_count": 332,
   "metadata": {},
   "outputs": [
    {
     "name": "stdout",
     "output_type": "stream",
     "text": [
      "Enumerating objects: 5, done.\n",
      "Counting objects: 100% (5/5), done.\n",
      "Delta compression using up to 4 threads\n",
      "Compressing objects: 100% (3/3), done.\n",
      "Writing objects: 100% (3/3), 421 bytes | 421.00 KiB/s, done.\n",
      "Total 3 (delta 1), reused 0 (delta 0)\n",
      "remote: Resolving deltas: 100% (1/1), completed with 1 local object.\u001b[K\n",
      "To https://github.com/DimaBryuhanov/git_lesson.git\n",
      "   921eadc..856733e  master -> master\n"
     ]
    }
   ],
   "source": [
    "!cd ./new_project/ && git push origin master"
   ]
  },
  {
   "cell_type": "code",
   "execution_count": 335,
   "metadata": {},
   "outputs": [
    {
     "name": "stdout",
     "output_type": "stream",
     "text": [
      "[master 31c5e8d] Adding another_file.txt\r\n"
     ]
    }
   ],
   "source": [
    "!cd ./new_project/ && git commit -m \"Adding another_file.txt\""
   ]
  },
  {
   "cell_type": "code",
   "execution_count": 336,
   "metadata": {},
   "outputs": [
    {
     "name": "stdout",
     "output_type": "stream",
     "text": [
      "Already up to date.\r\n"
     ]
    }
   ],
   "source": [
    "!cd ./new_project/ && git merge test"
   ]
  },
  {
   "cell_type": "code",
   "execution_count": 337,
   "metadata": {},
   "outputs": [
    {
     "name": "stdout",
     "output_type": "stream",
     "text": [
      "\u001b[33mcommit 31c5e8d4467b6918b751242d7bc11549661d839c\u001b[m\u001b[33m (\u001b[m\u001b[1;36mHEAD -> \u001b[m\u001b[1;32mmaster\u001b[m\u001b[33m)\u001b[m\r\n",
      "Merge: 856733e 0b7d3a3\r\n",
      "Author: Dmitry Brook <dmitrii_bryuhanov@mail.ru>\r\n",
      "Date:   Tue Oct 20 17:46:48 2020 +0300\r\n",
      "\r\n",
      "    Adding another_file.txt\r\n",
      "\r\n",
      "\r\n",
      "\u001b[33mcommit 856733e03c1b260eff0908dc30ecbe4d709c51ea\u001b[m\u001b[33m (\u001b[m\u001b[1;31morigin/master\u001b[m\u001b[33m)\u001b[m\r\n",
      "Author: Dmitry Brook <dmitrii_bryuhanov@mail.ru>\r\n",
      "Date:   Tue Oct 20 16:47:52 2020 +0300\r\n",
      "\r\n",
      "    Adding still_other_file.txt to the master\r\n",
      "\r\n",
      "\u001b[1mdiff --git a/new_folder/still_other_file.txt b/new_folder/still_other_file.txt\u001b[m\r\n",
      "\u001b[1mnew file mode 100644\u001b[m\r\n",
      "\u001b[1mindex 0000000..e69de29\u001b[m\r\n",
      "\r\n",
      "\u001b[33mcommit 0b7d3a3dda374b89b077fab0c25ccfdb597831c3\u001b[m\u001b[33m (\u001b[m\u001b[1;31morigin/test\u001b[m\u001b[33m, \u001b[m\u001b[1;32mtest\u001b[m\u001b[33m)\u001b[m\r\n",
      "Author: Dmitry Brook <dmitrii_bryuhanov@mail.ru>\r\n",
      "Date:   Tue Oct 20 16:30:56 2020 +0300\r\n",
      "\r\n",
      "    first commit in the branch\r\n",
      "\r\n",
      "\u001b[1mdiff --git a/new_folder/another_file.txt b/new_folder/another_file.txt\u001b[m\r\n",
      "\u001b[1mnew file mode 100644\u001b[m\r\n",
      "\u001b[1mindex 0000000..e69de29\u001b[m\r\n"
     ]
    }
   ],
   "source": [
    "!cd ./new_project/ && git show -n 3"
   ]
  },
  {
   "cell_type": "markdown",
   "metadata": {},
   "source": [
    "- [git online book - Russian](https://git-scm.com/book/ru/v2)\n",
    "\n",
    "- <a href=\"https://code.visualstudio.com/Docs/editor/versioncontrol#_git-support\" >VS Code</a>"
   ]
  },
  {
   "cell_type": "code",
   "execution_count": null,
   "metadata": {},
   "outputs": [],
   "source": []
  }
 ],
 "metadata": {
  "kernelspec": {
   "name": "python3",
   "display_name": "Python 3.8.3 64-bit",
   "metadata": {
    "interpreter": {
     "hash": "1d4236062298abbcc102f1d33c0647357d379672deef0bd283f7ff70e55a3917"
    }
   }
  },
  "language_info": {
   "codemirror_mode": {
    "name": "ipython",
    "version": 3
   },
   "file_extension": ".py",
   "mimetype": "text/x-python",
   "name": "python",
   "nbconvert_exporter": "python",
   "pygments_lexer": "ipython3",
   "version": "3.8.3-final"
  }
 },
 "nbformat": 4,
 "nbformat_minor": 4
}